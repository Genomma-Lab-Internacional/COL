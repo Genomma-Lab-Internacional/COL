{
 "cells": [
  {
   "cell_type": "markdown",
   "metadata": {},
   "source": [
    "# Libraries"
   ]
  },
  {
   "cell_type": "code",
   "execution_count": 1,
   "metadata": {},
   "outputs": [],
   "source": [
    "from datetime import datetime\n",
    "import pandas as pd\n",
    "import calendar\n",
    "import locale\n",
    "import pyodbc\n",
    "## Remove default formatting in header\n",
    "pd.io.formats.excel.ExcelFormatter.header_style = None\n",
    "## Customized float formatting\n",
    "pd.options.display.float_format = '{:,.2f}'.format"
   ]
  },
  {
   "cell_type": "markdown",
   "metadata": {},
   "source": [
    "# Parameters"
   ]
  },
  {
   "cell_type": "code",
   "execution_count": 2,
   "metadata": {},
   "outputs": [],
   "source": [
    "year = 2022\n",
    "week = 4\n",
    "\n",
    "## Parameters of Unidrogas Distribución\n",
    "path = r'C:\\Users\\aguevarar\\OneDrive - genommalabinternacional\\BI\\Data Clientes\\Unidrogas\\{0}\\S {1}'\n",
    "filename_stock = 'INVENTARIO GENOMMA 27 ENERO  2022.xlsx'\n",
    "filename_sales_units = 'VENTA DISTRIBUCION EN UNIDADES GENOMMA DEL 17 AL 23 ENERO 2021.xlsx'\n",
    "\n",
    "## Parameters of Price Data\n",
    "path_prices = r'C:\\Users\\aguevarar\\OneDrive - genommalabinternacional\\BI\\Catalogos\\catalogo lista precios jesus'\n",
    "filename_prices = '\\\\Catalogo_Precios-202112.xlsx'"
   ]
  },
  {
   "cell_type": "markdown",
   "metadata": {},
   "source": [
    "# Import data"
   ]
  },
  {
   "cell_type": "code",
   "execution_count": 3,
   "metadata": {},
   "outputs": [],
   "source": [
    "# Ignore rows with no data\n",
    "def get_data(data, column):\n",
    "    df = data.copy()\n",
    "    not_null = df[df[column].notnull()].index.min()\n",
    "    df.columns = df.loc[not_null].tolist()\n",
    "    df = df[not_null + 1:].copy()\n",
    "    df.dropna(axis=0, inplace=True)\n",
    "    df.reset_index(drop=True, inplace=True)\n",
    "    return df"
   ]
  },
  {
   "cell_type": "markdown",
   "metadata": {},
   "source": [
    "## Import Stocks"
   ]
  },
  {
   "cell_type": "code",
   "execution_count": 4,
   "metadata": {},
   "outputs": [],
   "source": [
    "df_stock = pd.read_excel(path.format(year, week) + '\\\\' + filename_stock)\n",
    "try:\n",
    "    df_stock = get_data(df_stock, 'Unnamed: 6')\n",
    "except:\n",
    "    df_stock = df_stock"
   ]
  },
  {
   "cell_type": "code",
   "execution_count": 5,
   "metadata": {},
   "outputs": [
    {
     "data": {
      "text/html": [
       "<div>\n",
       "<style scoped>\n",
       "    .dataframe tbody tr th:only-of-type {\n",
       "        vertical-align: middle;\n",
       "    }\n",
       "\n",
       "    .dataframe tbody tr th {\n",
       "        vertical-align: top;\n",
       "    }\n",
       "\n",
       "    .dataframe thead th {\n",
       "        text-align: right;\n",
       "    }\n",
       "</style>\n",
       "<table border=\"1\" class=\"dataframe\">\n",
       "  <thead>\n",
       "    <tr style=\"text-align: right;\">\n",
       "      <th></th>\n",
       "      <th>Codigo</th>\n",
       "      <th>Nombre comercial</th>\n",
       "      <th>Laboratorio</th>\n",
       "      <th>Linea</th>\n",
       "      <th>Precio</th>\n",
       "      <th>Inventario BQUILLA</th>\n",
       "      <th>Inventario BOGOTA</th>\n",
       "      <th>Inventario BMANGA</th>\n",
       "      <th>Inventario MEDELLIN</th>\n",
       "      <th>Inventario STMARTA</th>\n",
       "      <th>Inventario VDUPAR</th>\n",
       "    </tr>\n",
       "  </thead>\n",
       "  <tbody>\n",
       "    <tr>\n",
       "      <th>0</th>\n",
       "      <td>7798140258506</td>\n",
       "      <td>ACONDICIONADOR TIO NACHO ACEITE DE COCO FRASCO...</td>\n",
       "      <td>GENOMMA</td>\n",
       "      <td>GENERAL</td>\n",
       "      <td>15129</td>\n",
       "      <td>58</td>\n",
       "      <td>45</td>\n",
       "      <td>24</td>\n",
       "      <td>49</td>\n",
       "      <td>0</td>\n",
       "      <td>55</td>\n",
       "    </tr>\n",
       "    <tr>\n",
       "      <th>1</th>\n",
       "      <td>650240035159</td>\n",
       "      <td>ACONDICIONADOR TIO NACHO ANTI-CAIDA ENGROSADOR...</td>\n",
       "      <td>GENOMMA</td>\n",
       "      <td>GENERAL</td>\n",
       "      <td>15129</td>\n",
       "      <td>263</td>\n",
       "      <td>130</td>\n",
       "      <td>226</td>\n",
       "      <td>118</td>\n",
       "      <td>0</td>\n",
       "      <td>72</td>\n",
       "    </tr>\n",
       "    <tr>\n",
       "      <th>2</th>\n",
       "      <td>7798140259916</td>\n",
       "      <td>ACONDICIONADOR TIO NACHO ANTI-DANO REPARACION ...</td>\n",
       "      <td>GENOMMA</td>\n",
       "      <td>GENERAL</td>\n",
       "      <td>14401</td>\n",
       "      <td>0</td>\n",
       "      <td>0</td>\n",
       "      <td>0</td>\n",
       "      <td>0</td>\n",
       "      <td>0</td>\n",
       "      <td>0</td>\n",
       "    </tr>\n",
       "    <tr>\n",
       "      <th>3</th>\n",
       "      <td>650240014581</td>\n",
       "      <td>ACONDICIONADOR TIO NACHO ANTI-EDAD ACLARANTE F...</td>\n",
       "      <td>GENOMMA</td>\n",
       "      <td>GENERAL</td>\n",
       "      <td>15129</td>\n",
       "      <td>140</td>\n",
       "      <td>60</td>\n",
       "      <td>190</td>\n",
       "      <td>73</td>\n",
       "      <td>0</td>\n",
       "      <td>58</td>\n",
       "    </tr>\n",
       "    <tr>\n",
       "      <th>4</th>\n",
       "      <td>650240055614</td>\n",
       "      <td>ACONDICIONADOR TIO NACHO PROTECCION Y FUERZA F...</td>\n",
       "      <td>GENOMMA</td>\n",
       "      <td>GENERAL</td>\n",
       "      <td>10261</td>\n",
       "      <td>48</td>\n",
       "      <td>51</td>\n",
       "      <td>76</td>\n",
       "      <td>53</td>\n",
       "      <td>0</td>\n",
       "      <td>23</td>\n",
       "    </tr>\n",
       "    <tr>\n",
       "      <th>...</th>\n",
       "      <td>...</td>\n",
       "      <td>...</td>\n",
       "      <td>...</td>\n",
       "      <td>...</td>\n",
       "      <td>...</td>\n",
       "      <td>...</td>\n",
       "      <td>...</td>\n",
       "      <td>...</td>\n",
       "      <td>...</td>\n",
       "      <td>...</td>\n",
       "      <td>...</td>\n",
       "    </tr>\n",
       "    <tr>\n",
       "      <th>130</th>\n",
       "      <td>65024002819988</td>\n",
       "      <td>XRAY DOL CAJA X 12 TAB (2) OFERTA PRECIOS ESPE...</td>\n",
       "      <td>GENOMMA</td>\n",
       "      <td>GENERAL</td>\n",
       "      <td>22643</td>\n",
       "      <td>0</td>\n",
       "      <td>148</td>\n",
       "      <td>117</td>\n",
       "      <td>95</td>\n",
       "      <td>0</td>\n",
       "      <td>108</td>\n",
       "    </tr>\n",
       "    <tr>\n",
       "      <th>131</th>\n",
       "      <td>650240057915</td>\n",
       "      <td>XRAY DOL CAJA X 12 TAB OFERTA PAGUE 5 LLEVE 6 ...</td>\n",
       "      <td>GENOMMA</td>\n",
       "      <td>GENERAL</td>\n",
       "      <td>65095</td>\n",
       "      <td>0</td>\n",
       "      <td>0</td>\n",
       "      <td>0</td>\n",
       "      <td>0</td>\n",
       "      <td>0</td>\n",
       "      <td>0</td>\n",
       "    </tr>\n",
       "    <tr>\n",
       "      <th>132</th>\n",
       "      <td>650240000010</td>\n",
       "      <td>XRAY DOL CAJA X 48 TAB</td>\n",
       "      <td>GENOMMA</td>\n",
       "      <td>GENERAL</td>\n",
       "      <td>49391</td>\n",
       "      <td>885</td>\n",
       "      <td>781</td>\n",
       "      <td>1010</td>\n",
       "      <td>1051</td>\n",
       "      <td>0</td>\n",
       "      <td>844</td>\n",
       "    </tr>\n",
       "    <tr>\n",
       "      <th>133</th>\n",
       "      <td>650240038211</td>\n",
       "      <td>XRAY DOL CAJA X 48 TAB + 12 TAB + GEL TUBO X 3...</td>\n",
       "      <td>GENOMMA</td>\n",
       "      <td>GENERAL</td>\n",
       "      <td>49630</td>\n",
       "      <td>0</td>\n",
       "      <td>0</td>\n",
       "      <td>0</td>\n",
       "      <td>0</td>\n",
       "      <td>0</td>\n",
       "      <td>0</td>\n",
       "    </tr>\n",
       "    <tr>\n",
       "      <th>134</th>\n",
       "      <td>650240000027</td>\n",
       "      <td>XRAY GEL TUBO X 30 GR</td>\n",
       "      <td>GENOMMA</td>\n",
       "      <td>GENERAL</td>\n",
       "      <td>15152</td>\n",
       "      <td>852</td>\n",
       "      <td>410</td>\n",
       "      <td>538</td>\n",
       "      <td>604</td>\n",
       "      <td>0</td>\n",
       "      <td>184</td>\n",
       "    </tr>\n",
       "  </tbody>\n",
       "</table>\n",
       "<p>135 rows × 11 columns</p>\n",
       "</div>"
      ],
      "text/plain": [
       "             Codigo                                   Nombre comercial  \\\n",
       "0     7798140258506  ACONDICIONADOR TIO NACHO ACEITE DE COCO FRASCO...   \n",
       "1      650240035159  ACONDICIONADOR TIO NACHO ANTI-CAIDA ENGROSADOR...   \n",
       "2     7798140259916  ACONDICIONADOR TIO NACHO ANTI-DANO REPARACION ...   \n",
       "3      650240014581  ACONDICIONADOR TIO NACHO ANTI-EDAD ACLARANTE F...   \n",
       "4      650240055614  ACONDICIONADOR TIO NACHO PROTECCION Y FUERZA F...   \n",
       "..              ...                                                ...   \n",
       "130  65024002819988  XRAY DOL CAJA X 12 TAB (2) OFERTA PRECIOS ESPE...   \n",
       "131    650240057915  XRAY DOL CAJA X 12 TAB OFERTA PAGUE 5 LLEVE 6 ...   \n",
       "132    650240000010                             XRAY DOL CAJA X 48 TAB   \n",
       "133    650240038211  XRAY DOL CAJA X 48 TAB + 12 TAB + GEL TUBO X 3...   \n",
       "134    650240000027                              XRAY GEL TUBO X 30 GR   \n",
       "\n",
       "    Laboratorio    Linea Precio Inventario BQUILLA Inventario BOGOTA  \\\n",
       "0      GENOMMA   GENERAL  15129                 58                45   \n",
       "1      GENOMMA   GENERAL  15129                263               130   \n",
       "2      GENOMMA   GENERAL  14401                  0                 0   \n",
       "3      GENOMMA   GENERAL  15129                140                60   \n",
       "4      GENOMMA   GENERAL  10261                 48                51   \n",
       "..          ...      ...    ...                ...               ...   \n",
       "130    GENOMMA   GENERAL  22643                  0               148   \n",
       "131    GENOMMA   GENERAL  65095                  0                 0   \n",
       "132    GENOMMA   GENERAL  49391                885               781   \n",
       "133    GENOMMA   GENERAL  49630                  0                 0   \n",
       "134    GENOMMA   GENERAL  15152                852               410   \n",
       "\n",
       "    Inventario BMANGA Inventario MEDELLIN Inventario STMARTA Inventario VDUPAR  \n",
       "0                  24                  49                  0                55  \n",
       "1                 226                 118                  0                72  \n",
       "2                   0                   0                  0                 0  \n",
       "3                 190                  73                  0                58  \n",
       "4                  76                  53                  0                23  \n",
       "..                ...                 ...                ...               ...  \n",
       "130               117                  95                  0               108  \n",
       "131                 0                   0                  0                 0  \n",
       "132              1010                1051                  0               844  \n",
       "133                 0                   0                  0                 0  \n",
       "134               538                 604                  0               184  \n",
       "\n",
       "[135 rows x 11 columns]"
      ]
     },
     "execution_count": 5,
     "metadata": {},
     "output_type": "execute_result"
    }
   ],
   "source": [
    "df_stock"
   ]
  },
  {
   "cell_type": "code",
   "execution_count": 6,
   "metadata": {},
   "outputs": [
    {
     "data": {
      "text/plain": [
       "'C:\\\\Users\\\\aguevarar\\\\OneDrive - genommalabinternacional\\\\BI\\\\Data Clientes\\\\Unidrogas\\\\{0}\\\\S {1}'"
      ]
     },
     "execution_count": 6,
     "metadata": {},
     "output_type": "execute_result"
    }
   ],
   "source": [
    "path"
   ]
  },
  {
   "cell_type": "markdown",
   "metadata": {},
   "source": [
    "# Connect to DWH"
   ]
  },
  {
   "cell_type": "code",
   "execution_count": 7,
   "metadata": {},
   "outputs": [],
   "source": [
    "## Connection to DWH\n",
    "conx = pyodbc.connect('Driver={SQL Server};'\n",
    "                      'Server=SFEDWH01;'\n",
    "                      'Database=Gnm_DWH;'\n",
    "                      'Trusted_Connection=yes;')\n",
    "\n",
    "## Dates from DWH\n",
    "query_dates = 'SELECT TmpFecha AS Fecha, TmpSemanaAnioGenomma AS Semana FROM Gnm_DWH.dbo.Dim_Tiempo WHERE TmpAnioSemanaGenomma = {0} AND TmpSemanaAnioGenomma = {1}'\n",
    "df_weeksGL = pd.read_sql(query_dates.format(year, week), conx)"
   ]
  },
  {
   "cell_type": "markdown",
   "metadata": {},
   "source": [
    "# Transform"
   ]
  },
  {
   "cell_type": "code",
   "execution_count": 8,
   "metadata": {},
   "outputs": [],
   "source": [
    "# SucCod\n",
    "loc_inv = {'Inventario BQUILLA':1001, 'Inventario BOGOTA':1002, 'Inventario BMANGA':1003,\n",
    "           'Inventario MEDELLIN':1004, 'Inventario VDUPAR':1006, 'BARRANQUILLA':1001, 'BOGOTA':1002,\n",
    "           'BUCARAMANGA':1003, 'MEDELLIN':1004, 'VALLEDUPAR':1006, 'SANTAMARTA':1005}"
   ]
  },
  {
   "cell_type": "code",
   "execution_count": 9,
   "metadata": {},
   "outputs": [],
   "source": [
    "# month abbreviations\n",
    "month_abbr = [m.capitalize() for m in list(calendar.month_abbr)]\n",
    "nmonth_abbr = dict(zip(month_abbr, range(13)))"
   ]
  },
  {
   "cell_type": "code",
   "execution_count": 10,
   "metadata": {},
   "outputs": [],
   "source": [
    "# Clean dates and transform to datetime\n",
    "def clean_date(str_date):\n",
    "    year = int(str_date.split('/')[1])\n",
    "    month = nmonth_abbr[str_date[:3]]\n",
    "    day = int(str_date.split('/')[0][-2:])\n",
    "    return datetime(year, month, day)"
   ]
  },
  {
   "cell_type": "code",
   "execution_count": 11,
   "metadata": {},
   "outputs": [],
   "source": [
    "def clean_name_sku(name):\n",
    "    try:\n",
    "        return name.split('  COMERCIAL ')[0]\n",
    "    except:\n",
    "        return name"
   ]
  },
  {
   "cell_type": "markdown",
   "metadata": {},
   "source": [
    "This function merges unit sales and GL weeks:"
   ]
  },
  {
   "cell_type": "code",
   "execution_count": 12,
   "metadata": {},
   "outputs": [],
   "source": [
    "def clean_join(sales_units, weeks_GL, city):\n",
    "    total_sales = sales_units[['Fecha', 'Sku', 'Ven Und']]\n",
    "    total_sales['Fecha'] = total_sales['Fecha'].map(clean_date)\n",
    "    total_sales = total_sales.merge(weeks_GL, on='Fecha', how='left')\n",
    "    final = total_sales.pivot_table(index=['Semana', 'Sku'], values=['Ven Und'], aggfunc='sum').reset_index()\n",
    "    final['Loc'] = city\n",
    "    return final[['Semana', 'Loc', 'Sku', 'Ven Und']]"
   ]
  },
  {
   "cell_type": "markdown",
   "metadata": {},
   "source": [
    "## Sales"
   ]
  },
  {
   "cell_type": "markdown",
   "metadata": {},
   "source": [
    "### Import and Clean"
   ]
  },
  {
   "cell_type": "code",
   "execution_count": 13,
   "metadata": {},
   "outputs": [
    {
     "name": "stdout",
     "output_type": "stream",
     "text": [
      "Wall time: 288 ms\n"
     ]
    }
   ],
   "source": [
    "%%time\n",
    "## Import units sales and tranform data\n",
    "data_sales = pd.DataFrame()\n",
    "for city in ['BARRANQUILLA', 'BOGOTA', 'BUCARAMANGA', 'MEDELLIN', 'VALLEDUPAR']:\n",
    "    df_unit = pd.read_excel(path.format(year, week) + '\\\\' + filename_sales_units, sheet_name=city)\n",
    "    df_unit = get_data(df_unit, 'Unnamed: 7')\n",
    "    cols_unit = df_unit.columns    \n",
    "    data_unit = df_unit.melt(id_vars='Fecha', value_vars=cols_unit[1:], var_name='Sku', value_name='Ven Und')\n",
    "    data = clean_join(data_unit, df_weeksGL, city)\n",
    "    data_sales = pd.concat([data_sales, data], axis=0)\n",
    "## Create columns \"CodSuc\"\n",
    "data_sales['CodSuc'] = data_sales['Loc'].map(loc_inv)\n",
    "## Remove last whitespace from \"Sku\"\n",
    "data_sales['Sku'] = data_sales['Sku'].str.rstrip()\n",
    "## Remove CEDIS, this make match with the names of stocks\n",
    "data_sales['Sku'] = data_sales['Sku'].map(clean_name_sku)\n",
    "data_sales.reset_index(drop=True, inplace=True)"
   ]
  },
  {
   "cell_type": "code",
   "execution_count": 14,
   "metadata": {},
   "outputs": [
    {
     "data": {
      "text/plain": [
       "Semana     0\n",
       "Loc        0\n",
       "Sku        0\n",
       "Ven Und    0\n",
       "CodSuc     0\n",
       "dtype: int64"
      ]
     },
     "execution_count": 14,
     "metadata": {},
     "output_type": "execute_result"
    }
   ],
   "source": [
    "data_sales.isnull().sum()"
   ]
  },
  {
   "cell_type": "markdown",
   "metadata": {},
   "source": [
    "## Stock"
   ]
  },
  {
   "cell_type": "markdown",
   "metadata": {},
   "source": [
    "### Clean"
   ]
  },
  {
   "cell_type": "code",
   "execution_count": 15,
   "metadata": {},
   "outputs": [],
   "source": [
    "## Unpivoting data of stock\n",
    "data_stock = df_stock.melt(id_vars=['Codigo', 'Nombre comercial', 'Laboratorio', 'Linea', 'Precio'],\n",
    "                           value_vars=['Inventario BQUILLA', 'Inventario BOGOTA', 'Inventario BMANGA',\n",
    "                                       'Inventario MEDELLIN', 'Inventario STMARTA', 'Inventario VDUPAR'], \n",
    "                           var_name='Loc', value_name='Inv Und')"
   ]
  },
  {
   "cell_type": "markdown",
   "metadata": {},
   "source": [
    "Some EANs are wrong, so we fix it as discussed with Cristian Yepez:"
   ]
  },
  {
   "cell_type": "code",
   "execution_count": 16,
   "metadata": {},
   "outputs": [],
   "source": [
    "skus_correct = {650240004650:650240007828, 650240004285:650240009563, \n",
    "                650240037474:650240037177, 6502400030840:650240030840, \n",
    "                65024002819988:650240038129, 6502400030840:650240030840}\n",
    "\n",
    "data_stock['Codigo'] = data_stock['Codigo'].replace(skus_correct)\n",
    "data_stock.loc[data_stock['Nombre comercial']=='GOICOECHEA EFECTO ANTI-CELULITIS FRASCO X 400 ML', 'Codigo']=650240004605\n",
    "data_stock.loc[data_stock['Nombre comercial']=='LOMECAN 200 MG CAJA X 3 OVULOS', 'Codigo']=6502400030840"
   ]
  },
  {
   "cell_type": "code",
   "execution_count": 17,
   "metadata": {},
   "outputs": [],
   "source": [
    "## Create column \"CodSuc\"\n",
    "data_stock['CodSuc'] = data_stock['Loc'].map(loc_inv)\n",
    "\n",
    "## Remove STMARTA\n",
    "data_stock.dropna(axis=0, inplace=True)\n",
    "data_stock.reset_index(drop=True, inplace=True)\n",
    "\n",
    "## Create column \"CodSuc\"\n",
    "data_stock['CodSuc'] = data_stock['CodSuc'].map(int)"
   ]
  },
  {
   "cell_type": "markdown",
   "metadata": {},
   "source": [
    "Check if there is any column with missing data"
   ]
  },
  {
   "cell_type": "code",
   "execution_count": 18,
   "metadata": {},
   "outputs": [
    {
     "data": {
      "text/plain": [
       "Codigo              0\n",
       "Nombre comercial    0\n",
       "Laboratorio         0\n",
       "Linea               0\n",
       "Precio              0\n",
       "Loc                 0\n",
       "Inv Und             0\n",
       "CodSuc              0\n",
       "dtype: int64"
      ]
     },
     "execution_count": 18,
     "metadata": {},
     "output_type": "execute_result"
    }
   ],
   "source": [
    "data_stock.isnull().sum()"
   ]
  },
  {
   "cell_type": "markdown",
   "metadata": {},
   "source": [
    "As we fix the barcodes, we create a pivot table so that there are no duplicate values:"
   ]
  },
  {
   "cell_type": "code",
   "execution_count": 19,
   "metadata": {},
   "outputs": [],
   "source": [
    "data_stock = data_stock.pivot_table(index=['Codigo', 'Nombre comercial', 'Laboratorio', 'Linea', 'Precio', 'Loc', 'CodSuc'], \n",
    "                                    values=['Inv Und'],\n",
    "                                    aggfunc='sum').reset_index().copy()"
   ]
  },
  {
   "cell_type": "markdown",
   "metadata": {},
   "source": [
    "# Merge Sales & Stock"
   ]
  },
  {
   "cell_type": "markdown",
   "metadata": {},
   "source": [
    "## Preparation"
   ]
  },
  {
   "cell_type": "code",
   "execution_count": 20,
   "metadata": {},
   "outputs": [],
   "source": [
    "## Create ID\n",
    "data_sales['ID'] = data_sales['CodSuc'].map(str) + data_sales['Sku'].map(str)\n",
    "data_stock['ID'] = data_stock['CodSuc'].map(str) + data_stock['Nombre comercial']"
   ]
  },
  {
   "cell_type": "markdown",
   "metadata": {},
   "source": [
    "We validate that there are no repeated ID's "
   ]
  },
  {
   "cell_type": "code",
   "execution_count": 21,
   "metadata": {},
   "outputs": [
    {
     "data": {
      "text/plain": [
       "0"
      ]
     },
     "execution_count": 21,
     "metadata": {},
     "output_type": "execute_result"
    }
   ],
   "source": [
    "(data_sales['ID'].value_counts() > 1).sum()"
   ]
  },
  {
   "cell_type": "code",
   "execution_count": 22,
   "metadata": {},
   "outputs": [
    {
     "data": {
      "text/plain": [
       "0"
      ]
     },
     "execution_count": 22,
     "metadata": {},
     "output_type": "execute_result"
    }
   ],
   "source": [
    "(data_stock['ID'].value_counts() > 1).sum()"
   ]
  },
  {
   "cell_type": "markdown",
   "metadata": {},
   "source": [
    "## Merge data"
   ]
  },
  {
   "cell_type": "code",
   "execution_count": 23,
   "metadata": {},
   "outputs": [],
   "source": [
    "sales_stock = pd.merge(data_sales, data_stock, on='ID', how='outer')"
   ]
  },
  {
   "cell_type": "markdown",
   "metadata": {},
   "source": [
    "## Cleaning the merge"
   ]
  },
  {
   "cell_type": "code",
   "execution_count": 24,
   "metadata": {},
   "outputs": [],
   "source": [
    "## Clean some columns\n",
    "sales_stock['Semana'].fillna(value=data_sales['Semana'].unique()[0], inplace=True)\n",
    "sales_stock['Ven Und'].fillna(0, inplace=True)\n",
    "\n",
    "## Correction some skus\n",
    "skus_correct = {650240004650:650240007828, 650240004285:650240009563, \n",
    "                650240037474:650240037177, 6502400030840:650240030840, \n",
    "                65024002819988:650240038129, 6502400030840:650240030840}\n",
    "\n",
    "final = sales_stock[['Semana', 'Codigo', 'Nombre comercial', 'CodSuc_y', 'Ven Und', 'Inv Und']].copy()\n",
    "final['Codigo'] = final['Codigo'].map(int)\n",
    "final['Codigo'] = final['Codigo'].replace(skus_correct)\n",
    "\n",
    "## Remove skus DURACELL\n",
    "#final = final[~final['Nombre comercial'].str.contains('DURA')].copy()\n",
    "#final.reset_index(drop=True, inplace=True)"
   ]
  },
  {
   "cell_type": "code",
   "execution_count": 25,
   "metadata": {},
   "outputs": [
    {
     "data": {
      "text/plain": [
       "Ven Und    24,490.00\n",
       "Inv Und   154,857.00\n",
       "dtype: float64"
      ]
     },
     "execution_count": 25,
     "metadata": {},
     "output_type": "execute_result"
    }
   ],
   "source": [
    "final[['Ven Und', 'Inv Und']].sum()"
   ]
  },
  {
   "cell_type": "code",
   "execution_count": 26,
   "metadata": {},
   "outputs": [],
   "source": [
    "## Filter and rename columns\n",
    "final['Año'] = year\n",
    "final['Semana'] = final['Semana'].map(int)\n",
    "final.rename({'Codigo':'EAN', 'CodSuc_y':'CodSuc', 'Nombre comercial':'Descripción'}, axis=1, inplace=True)"
   ]
  },
  {
   "cell_type": "markdown",
   "metadata": {},
   "source": [
    "## Merge the prices"
   ]
  },
  {
   "cell_type": "code",
   "execution_count": 27,
   "metadata": {},
   "outputs": [],
   "source": [
    "## Import and cleaning\n",
    "df_prices = pd.read_excel(path_prices + filename_prices)\n",
    "data_prices = df_prices.loc[df_prices['Cliente']=='UNIDROGAS S.A.', ['EAN', 'LISTA']]\n",
    "data_final = final.merge(data_prices, on='EAN', how='left')\n",
    "data_final['LISTA'].fillna(1, inplace=True)\n",
    "\n",
    "## Amount of sales and stock\n",
    "data_final['Ven Monto'] = data_final['Ven Und']*data_final['LISTA']\n",
    "data_final['Inv Monto'] = data_final['Inv Und']*data_final['LISTA']"
   ]
  },
  {
   "cell_type": "markdown",
   "metadata": {},
   "source": [
    "# Export Data"
   ]
  },
  {
   "cell_type": "code",
   "execution_count": 28,
   "metadata": {},
   "outputs": [],
   "source": [
    "filename = '{1}{0}_UNIDROGAS.xlsx'\n",
    "filename = filename.format(year, week)\n",
    "sheet_name = 'S{0}'.format(str(week).zfill(2))\n",
    "\n",
    "cols = ['Año', 'Semana', 'EAN', 'Descripción', 'CodSuc', 'Ven Und', 'Ven Monto', 'Inv Und', 'Inv Monto']\n",
    "data_final[cols].to_excel(path.format(year, week) + '\\\\' + filename, sheet_name=sheet_name, index=False)"
   ]
  },
  {
   "cell_type": "markdown",
   "metadata": {},
   "source": [
    "Total units sold and total units in stock:"
   ]
  },
  {
   "cell_type": "code",
   "execution_count": 29,
   "metadata": {},
   "outputs": [
    {
     "data": {
      "text/plain": [
       "Ven Und    25,291.00\n",
       "Inv Und   158,075.00\n",
       "dtype: float64"
      ]
     },
     "execution_count": 29,
     "metadata": {},
     "output_type": "execute_result"
    }
   ],
   "source": [
    "data_final[['Ven Und', 'Inv Und']].sum()"
   ]
  },
  {
   "cell_type": "code",
   "execution_count": null,
   "metadata": {},
   "outputs": [],
   "source": []
  }
 ],
 "metadata": {
  "kernelspec": {
   "display_name": "Python 3",
   "language": "python",
   "name": "python3"
  },
  "language_info": {
   "codemirror_mode": {
    "name": "ipython",
    "version": 3
   },
   "file_extension": ".py",
   "mimetype": "text/x-python",
   "name": "python",
   "nbconvert_exporter": "python",
   "pygments_lexer": "ipython3",
   "version": "3.8.8"
  },
  "toc": {
   "base_numbering": 1,
   "nav_menu": {},
   "number_sections": true,
   "sideBar": true,
   "skip_h1_title": false,
   "title_cell": "Table of Contents",
   "title_sidebar": "Contents",
   "toc_cell": false,
   "toc_position": {},
   "toc_section_display": true,
   "toc_window_display": true
  }
 },
 "nbformat": 4,
 "nbformat_minor": 4
}
