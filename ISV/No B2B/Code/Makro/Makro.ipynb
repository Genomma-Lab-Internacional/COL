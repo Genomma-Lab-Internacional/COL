{
 "cells": [
  {
   "cell_type": "markdown",
   "metadata": {},
   "source": [
    "# Libraries"
   ]
  },
  {
   "cell_type": "code",
   "execution_count": 1,
   "metadata": {},
   "outputs": [],
   "source": [
    "import pandas as pd\n",
    "from datetime import datetime\n",
    "import numpy as np\n",
    "import pyodbc\n",
    "import os\n",
    "\n",
    "## Remove default formatting in header\n",
    "pd.io.formats.excel.ExcelFormatter.header_style = None"
   ]
  },
  {
   "cell_type": "code",
   "execution_count": 81,
   "metadata": {},
   "outputs": [],
   "source": [
    "import warnings\n",
    "warnings.filterwarnings('ignore')"
   ]
  },
  {
   "cell_type": "markdown",
   "metadata": {},
   "source": [
    "# Parameters"
   ]
  },
  {
   "cell_type": "code",
   "execution_count": 2,
   "metadata": {},
   "outputs": [],
   "source": [
    "year = 2022\n",
    "week = 5\n",
    "\n",
    "path = r'C:\\Users\\jshernandezm\\OneDrive - genommalabinternacional\\02Paises\\Colombia\\Makro\\{0}\\S{1}'\n",
    "path = path.format(year, str(week).zfill(2))\n",
    "\n",
    "filename = r'Stock and PO and Sales Report_Stock and PO and Sales Report.xlsx'\n",
    "\n",
    "catalogue_products = r'C:\\Users\\jshernandezm\\OneDrive - genommalabinternacional\\02Paises\\Colombia\\Makro\\Catalogos\\maestro_productos.xlsx'"
   ]
  },
  {
   "cell_type": "markdown",
   "metadata": {},
   "source": [
    "# Connections"
   ]
  },
  {
   "cell_type": "code",
   "execution_count": 3,
   "metadata": {},
   "outputs": [],
   "source": [
    "conn = pyodbc.connect('Driver={SQL Server};'\n",
    "                     'Server=SFEDWH01;'\n",
    "                     'Trusted_Connection=yes;')"
   ]
  },
  {
   "cell_type": "code",
   "execution_count": 70,
   "metadata": {},
   "outputs": [],
   "source": [
    "qdates = '''SELECT [TmpFecha]\n",
    "  FROM [Gnm_DWH].[dbo].[Dim_Tiempo]\n",
    "  WHERE [TmpSemanaAnioGenomma] = {1} AND TmpAnioSemanaGenomma = {0} ANd TmpDiaSemana = 7\n",
    "'''"
   ]
  },
  {
   "cell_type": "code",
   "execution_count": 72,
   "metadata": {},
   "outputs": [],
   "source": [
    "ddates = pd.read_sql(qdates.format(year, week), conn)"
   ]
  },
  {
   "cell_type": "markdown",
   "metadata": {},
   "source": [
    "# Import Data"
   ]
  },
  {
   "cell_type": "markdown",
   "metadata": {},
   "source": [
    "## SO & Stock"
   ]
  },
  {
   "cell_type": "code",
   "execution_count": 20,
   "metadata": {},
   "outputs": [
    {
     "name": "stdout",
     "output_type": "stream",
     "text": [
      "Wall time: 1.05 s\n"
     ]
    }
   ],
   "source": [
    "%%time\n",
    "df = pd.read_excel(path + '\\\\' + filename)"
   ]
  },
  {
   "cell_type": "markdown",
   "metadata": {},
   "source": [
    "## Catalogues"
   ]
  },
  {
   "cell_type": "code",
   "execution_count": 40,
   "metadata": {},
   "outputs": [],
   "source": [
    "df_products = pd.read_excel(catalogue_products, sheet_name='Hoja2')"
   ]
  },
  {
   "cell_type": "code",
   "execution_count": 42,
   "metadata": {},
   "outputs": [],
   "source": [
    "df_products = df_products[df_products['ProPstCodBarras'].notnull()]"
   ]
  },
  {
   "cell_type": "code",
   "execution_count": 43,
   "metadata": {},
   "outputs": [
    {
     "name": "stderr",
     "output_type": "stream",
     "text": [
      "C:\\Users\\JSHERN~1\\AppData\\Local\\Temp/ipykernel_18880/3816992506.py:1: SettingWithCopyWarning: \n",
      "A value is trying to be set on a copy of a slice from a DataFrame.\n",
      "Try using .loc[row_indexer,col_indexer] = value instead\n",
      "\n",
      "See the caveats in the documentation: https://pandas.pydata.org/pandas-docs/stable/user_guide/indexing.html#returning-a-view-versus-a-copy\n",
      "  df_products['ProPstCodBarras'] = df_products['ProPstCodBarras'].map(int)\n",
      "C:\\Users\\JSHERN~1\\AppData\\Local\\Temp/ipykernel_18880/3816992506.py:3: SettingWithCopyWarning: \n",
      "A value is trying to be set on a copy of a slice from a DataFrame\n",
      "\n",
      "See the caveats in the documentation: https://pandas.pydata.org/pandas-docs/stable/user_guide/indexing.html#returning-a-view-versus-a-copy\n",
      "  df_products.drop_duplicates(inplace=True)\n"
     ]
    }
   ],
   "source": [
    "df_products['ProPstCodBarras'] = df_products['ProPstCodBarras'].map(int)\n",
    "\n",
    "df_products.drop_duplicates(inplace=True)\n",
    "\n",
    "df_products.reset_index(drop=True, inplace=True)"
   ]
  },
  {
   "cell_type": "markdown",
   "metadata": {},
   "source": [
    "# Data Cleaning"
   ]
  },
  {
   "cell_type": "code",
   "execution_count": 18,
   "metadata": {},
   "outputs": [],
   "source": [
    "# Ignore rows with no data\n",
    "def get_data(data, column):\n",
    "    df = data.copy()\n",
    "    not_null = df[df[column].notnull()].index.min()\n",
    "    df.columns = df.loc[not_null].tolist()\n",
    "    df = df[not_null + 1:].copy()\n",
    "    #df.dropna(axis=0, inplace=True)\n",
    "    df.reset_index(drop=True, inplace=True)\n",
    "    return df"
   ]
  },
  {
   "cell_type": "code",
   "execution_count": 102,
   "metadata": {},
   "outputs": [],
   "source": [
    "data = get_data(df, 'Unnamed: 5')"
   ]
  },
  {
   "cell_type": "markdown",
   "metadata": {},
   "source": [
    "Quitamos las últimas 4 filas ya que son nulas"
   ]
  },
  {
   "cell_type": "code",
   "execution_count": 103,
   "metadata": {},
   "outputs": [],
   "source": [
    "data = data[:data.shape[0]-4]"
   ]
  },
  {
   "cell_type": "code",
   "execution_count": 104,
   "metadata": {},
   "outputs": [],
   "source": [
    "data = data[['Descripción', 'Ubicación', 'Cantidad de stock', 'Cantidad de ventas']]"
   ]
  },
  {
   "cell_type": "markdown",
   "metadata": {},
   "source": [
    "# Merges"
   ]
  },
  {
   "cell_type": "markdown",
   "metadata": {},
   "source": [
    "## Products"
   ]
  },
  {
   "cell_type": "code",
   "execution_count": 105,
   "metadata": {},
   "outputs": [],
   "source": [
    "data = data.merge(df_products, on='Descripción', how='left')"
   ]
  },
  {
   "cell_type": "code",
   "execution_count": 108,
   "metadata": {},
   "outputs": [
    {
     "data": {
      "text/html": [
       "<div>\n",
       "<style scoped>\n",
       "    .dataframe tbody tr th:only-of-type {\n",
       "        vertical-align: middle;\n",
       "    }\n",
       "\n",
       "    .dataframe tbody tr th {\n",
       "        vertical-align: top;\n",
       "    }\n",
       "\n",
       "    .dataframe thead th {\n",
       "        text-align: right;\n",
       "    }\n",
       "</style>\n",
       "<table border=\"1\" class=\"dataframe\">\n",
       "  <thead>\n",
       "    <tr style=\"text-align: right;\">\n",
       "      <th></th>\n",
       "      <th>Cantidad de stock</th>\n",
       "      <th>Cantidad de ventas</th>\n",
       "    </tr>\n",
       "    <tr>\n",
       "      <th>Descripción</th>\n",
       "      <th></th>\n",
       "      <th></th>\n",
       "    </tr>\n",
       "  </thead>\n",
       "  <tbody>\n",
       "    <tr>\n",
       "      <th>CAJA PILA DURACELL 9V BLISTER 48pq</th>\n",
       "      <td>0</td>\n",
       "      <td>0</td>\n",
       "    </tr>\n",
       "    <tr>\n",
       "      <th>CAJA PILA DURACELL C BLISTER 2uX48pq</th>\n",
       "      <td>0</td>\n",
       "      <td>0</td>\n",
       "    </tr>\n",
       "    <tr>\n",
       "      <th>CAJA PILA DURACELL D BLISTER 2uX48pq</th>\n",
       "      <td>0</td>\n",
       "      <td>0</td>\n",
       "    </tr>\n",
       "  </tbody>\n",
       "</table>\n",
       "</div>"
      ],
      "text/plain": [
       "                                      Cantidad de stock  Cantidad de ventas\n",
       "Descripción                                                                \n",
       "CAJA PILA DURACELL 9V BLISTER 48pq                    0                   0\n",
       "CAJA PILA DURACELL C BLISTER 2uX48pq                  0                   0\n",
       "CAJA PILA DURACELL D BLISTER 2uX48pq                  0                   0"
      ]
     },
     "execution_count": 108,
     "metadata": {},
     "output_type": "execute_result"
    }
   ],
   "source": [
    "data[data['ProPstCodBarras'].isnull()].pivot_table(\n",
    "    index='Descripción', \n",
    "    values=['Cantidad de stock', 'Cantidad de ventas'],\n",
    "    aggfunc='sum'\n",
    ")"
   ]
  },
  {
   "cell_type": "markdown",
   "metadata": {},
   "source": [
    "data = data[data['ProPstCodBarras'].notnull()]"
   ]
  },
  {
   "cell_type": "code",
   "execution_count": 83,
   "metadata": {},
   "outputs": [],
   "source": [
    "data['ProPstCodBarras'] = data['ProPstCodBarras'].map(int)"
   ]
  },
  {
   "cell_type": "code",
   "execution_count": 82,
   "metadata": {},
   "outputs": [],
   "source": [
    "data['Fecha_Venta'] = ddates.loc[0].values[0]"
   ]
  },
  {
   "cell_type": "code",
   "execution_count": 85,
   "metadata": {},
   "outputs": [],
   "source": [
    "data['Cadena'] = 'Makro'"
   ]
  },
  {
   "cell_type": "code",
   "execution_count": 87,
   "metadata": {},
   "outputs": [],
   "source": [
    "data.rename({\n",
    "    'ProPstCodBarras': 'EAN o UPC Genomma'\n",
    "}, axis=1, inplace=True)"
   ]
  },
  {
   "cell_type": "code",
   "execution_count": 88,
   "metadata": {},
   "outputs": [],
   "source": [
    "data['Cod_Prod de la Cadena'] = data['EAN o UPC Genomma']"
   ]
  },
  {
   "cell_type": "code",
   "execution_count": 90,
   "metadata": {},
   "outputs": [],
   "source": [
    "data.rename({'Ubicación': 'Cod_Local'}, axis=1, inplace=True)"
   ]
  },
  {
   "cell_type": "code",
   "execution_count": 92,
   "metadata": {},
   "outputs": [],
   "source": [
    "data.rename({'Descripción':'Descripcion_Prod'}, axis=1, inplace=True)"
   ]
  },
  {
   "cell_type": "code",
   "execution_count": 94,
   "metadata": {},
   "outputs": [],
   "source": [
    "data.rename({'Cantidad de ventas':'Unidades'}, axis=1, inplace=True)"
   ]
  },
  {
   "cell_type": "code",
   "execution_count": 96,
   "metadata": {},
   "outputs": [
    {
     "data": {
      "text/html": [
       "<div>\n",
       "<style scoped>\n",
       "    .dataframe tbody tr th:only-of-type {\n",
       "        vertical-align: middle;\n",
       "    }\n",
       "\n",
       "    .dataframe tbody tr th {\n",
       "        vertical-align: top;\n",
       "    }\n",
       "\n",
       "    .dataframe thead th {\n",
       "        text-align: right;\n",
       "    }\n",
       "</style>\n",
       "<table border=\"1\" class=\"dataframe\">\n",
       "  <thead>\n",
       "    <tr style=\"text-align: right;\">\n",
       "      <th></th>\n",
       "      <th>Fecha_Venta</th>\n",
       "      <th>Cadena</th>\n",
       "      <th>Cod_Prod de la Cadena</th>\n",
       "      <th>EAN o UPC Genomma</th>\n",
       "      <th>Descripcion_Prod</th>\n",
       "      <th>Cod_Local</th>\n",
       "      <th>Unidades</th>\n",
       "    </tr>\n",
       "  </thead>\n",
       "  <tbody>\n",
       "    <tr>\n",
       "      <th>0</th>\n",
       "      <td>2022-01-30</td>\n",
       "      <td>Makro</td>\n",
       "      <td>650240035159</td>\n",
       "      <td>650240035159</td>\n",
       "      <td>ACONDICIONADOR TIO NACHO ENGROSADOR 415ml</td>\n",
       "      <td>1 - VDRIO</td>\n",
       "      <td>0</td>\n",
       "    </tr>\n",
       "    <tr>\n",
       "      <th>1</th>\n",
       "      <td>2022-01-30</td>\n",
       "      <td>Makro</td>\n",
       "      <td>650240035159</td>\n",
       "      <td>650240035159</td>\n",
       "      <td>ACONDICIONADOR TIO NACHO ENGROSADOR 415ml</td>\n",
       "      <td>10 - CARTG</td>\n",
       "      <td>2</td>\n",
       "    </tr>\n",
       "    <tr>\n",
       "      <th>2</th>\n",
       "      <td>2022-01-30</td>\n",
       "      <td>Makro</td>\n",
       "      <td>650240035159</td>\n",
       "      <td>650240035159</td>\n",
       "      <td>ACONDICIONADOR TIO NACHO ENGROSADOR 415ml</td>\n",
       "      <td>11 - CLL30</td>\n",
       "      <td>0</td>\n",
       "    </tr>\n",
       "    <tr>\n",
       "      <th>3</th>\n",
       "      <td>2022-01-30</td>\n",
       "      <td>Makro</td>\n",
       "      <td>650240035159</td>\n",
       "      <td>650240035159</td>\n",
       "      <td>ACONDICIONADOR TIO NACHO ENGROSADOR 415ml</td>\n",
       "      <td>12 - VVCIO</td>\n",
       "      <td>0</td>\n",
       "    </tr>\n",
       "    <tr>\n",
       "      <th>4</th>\n",
       "      <td>2022-01-30</td>\n",
       "      <td>Makro</td>\n",
       "      <td>650240035159</td>\n",
       "      <td>650240035159</td>\n",
       "      <td>ACONDICIONADOR TIO NACHO ENGROSADOR 415ml</td>\n",
       "      <td>13 - CALNO</td>\n",
       "      <td>0</td>\n",
       "    </tr>\n",
       "    <tr>\n",
       "      <th>...</th>\n",
       "      <td>...</td>\n",
       "      <td>...</td>\n",
       "      <td>...</td>\n",
       "      <td>...</td>\n",
       "      <td>...</td>\n",
       "      <td>...</td>\n",
       "      <td>...</td>\n",
       "    </tr>\n",
       "    <tr>\n",
       "      <th>954</th>\n",
       "      <td>2022-01-30</td>\n",
       "      <td>Makro</td>\n",
       "      <td>7798140258513</td>\n",
       "      <td>7798140258513</td>\n",
       "      <td>TRATAMIENTO TIO NACHO ULTRAHIDRATANTE COCO 200g</td>\n",
       "      <td>8 - ABOYA</td>\n",
       "      <td>0</td>\n",
       "    </tr>\n",
       "    <tr>\n",
       "      <th>955</th>\n",
       "      <td>2022-01-30</td>\n",
       "      <td>Makro</td>\n",
       "      <td>7798140258513</td>\n",
       "      <td>7798140258513</td>\n",
       "      <td>TRATAMIENTO TIO NACHO ULTRAHIDRATANTE COCO 200g</td>\n",
       "      <td>9 - IBAGU</td>\n",
       "      <td>2</td>\n",
       "    </tr>\n",
       "    <tr>\n",
       "      <th>956</th>\n",
       "      <td>2022-01-30</td>\n",
       "      <td>Makro</td>\n",
       "      <td>7798140258513</td>\n",
       "      <td>7798140258513</td>\n",
       "      <td>TRATAMIENTO TIO NACHO ULTRAHIDRATANTE COCO 200g</td>\n",
       "      <td>90000 - Cross Docking</td>\n",
       "      <td>0</td>\n",
       "    </tr>\n",
       "    <tr>\n",
       "      <th>957</th>\n",
       "      <td>2022-01-30</td>\n",
       "      <td>Makro</td>\n",
       "      <td>7798140258513</td>\n",
       "      <td>7798140258513</td>\n",
       "      <td>TRATAMIENTO TIO NACHO ULTRAHIDRATANTE COCO 200g</td>\n",
       "      <td>91 - TAT</td>\n",
       "      <td>0</td>\n",
       "    </tr>\n",
       "    <tr>\n",
       "      <th>958</th>\n",
       "      <td>2022-01-30</td>\n",
       "      <td>Makro</td>\n",
       "      <td>7798140258513</td>\n",
       "      <td>7798140258513</td>\n",
       "      <td>TRATAMIENTO TIO NACHO ULTRAHIDRATANTE COCO 200g</td>\n",
       "      <td>92 - DELIV BOG</td>\n",
       "      <td>0</td>\n",
       "    </tr>\n",
       "  </tbody>\n",
       "</table>\n",
       "<p>887 rows × 7 columns</p>\n",
       "</div>"
      ],
      "text/plain": [
       "    Fecha_Venta Cadena  Cod_Prod de la Cadena  EAN o UPC Genomma  \\\n",
       "0    2022-01-30  Makro           650240035159       650240035159   \n",
       "1    2022-01-30  Makro           650240035159       650240035159   \n",
       "2    2022-01-30  Makro           650240035159       650240035159   \n",
       "3    2022-01-30  Makro           650240035159       650240035159   \n",
       "4    2022-01-30  Makro           650240035159       650240035159   \n",
       "..          ...    ...                    ...                ...   \n",
       "954  2022-01-30  Makro          7798140258513      7798140258513   \n",
       "955  2022-01-30  Makro          7798140258513      7798140258513   \n",
       "956  2022-01-30  Makro          7798140258513      7798140258513   \n",
       "957  2022-01-30  Makro          7798140258513      7798140258513   \n",
       "958  2022-01-30  Makro          7798140258513      7798140258513   \n",
       "\n",
       "                                    Descripcion_Prod              Cod_Local  \\\n",
       "0          ACONDICIONADOR TIO NACHO ENGROSADOR 415ml              1 - VDRIO   \n",
       "1          ACONDICIONADOR TIO NACHO ENGROSADOR 415ml             10 - CARTG   \n",
       "2          ACONDICIONADOR TIO NACHO ENGROSADOR 415ml             11 - CLL30   \n",
       "3          ACONDICIONADOR TIO NACHO ENGROSADOR 415ml             12 - VVCIO   \n",
       "4          ACONDICIONADOR TIO NACHO ENGROSADOR 415ml             13 - CALNO   \n",
       "..                                               ...                    ...   \n",
       "954  TRATAMIENTO TIO NACHO ULTRAHIDRATANTE COCO 200g              8 - ABOYA   \n",
       "955  TRATAMIENTO TIO NACHO ULTRAHIDRATANTE COCO 200g              9 - IBAGU   \n",
       "956  TRATAMIENTO TIO NACHO ULTRAHIDRATANTE COCO 200g  90000 - Cross Docking   \n",
       "957  TRATAMIENTO TIO NACHO ULTRAHIDRATANTE COCO 200g               91 - TAT   \n",
       "958  TRATAMIENTO TIO NACHO ULTRAHIDRATANTE COCO 200g         92 - DELIV BOG   \n",
       "\n",
       "    Unidades  \n",
       "0          0  \n",
       "1          2  \n",
       "2          0  \n",
       "3          0  \n",
       "4          0  \n",
       "..       ...  \n",
       "954        0  \n",
       "955        2  \n",
       "956        0  \n",
       "957        0  \n",
       "958        0  \n",
       "\n",
       "[887 rows x 7 columns]"
      ]
     },
     "execution_count": 96,
     "metadata": {},
     "output_type": "execute_result"
    }
   ],
   "source": [
    "data[['Fecha_Venta', 'Cadena', 'Cod_Prod de la Cadena', 'EAN o UPC Genomma', 'Descripcion_Prod', 'Cod_Local', 'Unidades']]"
   ]
  },
  {
   "cell_type": "code",
   "execution_count": 98,
   "metadata": {},
   "outputs": [],
   "source": [
    "data.rename({'Cantidad de stock':'Unidades Stock'}, axis=1, inplace=True)"
   ]
  },
  {
   "cell_type": "code",
   "execution_count": 99,
   "metadata": {},
   "outputs": [
    {
     "data": {
      "text/html": [
       "<div>\n",
       "<style scoped>\n",
       "    .dataframe tbody tr th:only-of-type {\n",
       "        vertical-align: middle;\n",
       "    }\n",
       "\n",
       "    .dataframe tbody tr th {\n",
       "        vertical-align: top;\n",
       "    }\n",
       "\n",
       "    .dataframe thead th {\n",
       "        text-align: right;\n",
       "    }\n",
       "</style>\n",
       "<table border=\"1\" class=\"dataframe\">\n",
       "  <thead>\n",
       "    <tr style=\"text-align: right;\">\n",
       "      <th></th>\n",
       "      <th>Fecha_Venta</th>\n",
       "      <th>Cadena</th>\n",
       "      <th>Cod_Prod de la Cadena</th>\n",
       "      <th>EAN o UPC Genomma</th>\n",
       "      <th>Descripcion_Prod</th>\n",
       "      <th>Cod_Local</th>\n",
       "      <th>Unidades Stock</th>\n",
       "    </tr>\n",
       "  </thead>\n",
       "  <tbody>\n",
       "    <tr>\n",
       "      <th>0</th>\n",
       "      <td>2022-01-30</td>\n",
       "      <td>Makro</td>\n",
       "      <td>650240035159</td>\n",
       "      <td>650240035159</td>\n",
       "      <td>ACONDICIONADOR TIO NACHO ENGROSADOR 415ml</td>\n",
       "      <td>1 - VDRIO</td>\n",
       "      <td>0</td>\n",
       "    </tr>\n",
       "    <tr>\n",
       "      <th>1</th>\n",
       "      <td>2022-01-30</td>\n",
       "      <td>Makro</td>\n",
       "      <td>650240035159</td>\n",
       "      <td>650240035159</td>\n",
       "      <td>ACONDICIONADOR TIO NACHO ENGROSADOR 415ml</td>\n",
       "      <td>10 - CARTG</td>\n",
       "      <td>10</td>\n",
       "    </tr>\n",
       "    <tr>\n",
       "      <th>2</th>\n",
       "      <td>2022-01-30</td>\n",
       "      <td>Makro</td>\n",
       "      <td>650240035159</td>\n",
       "      <td>650240035159</td>\n",
       "      <td>ACONDICIONADOR TIO NACHO ENGROSADOR 415ml</td>\n",
       "      <td>11 - CLL30</td>\n",
       "      <td>0</td>\n",
       "    </tr>\n",
       "    <tr>\n",
       "      <th>3</th>\n",
       "      <td>2022-01-30</td>\n",
       "      <td>Makro</td>\n",
       "      <td>650240035159</td>\n",
       "      <td>650240035159</td>\n",
       "      <td>ACONDICIONADOR TIO NACHO ENGROSADOR 415ml</td>\n",
       "      <td>12 - VVCIO</td>\n",
       "      <td>0</td>\n",
       "    </tr>\n",
       "    <tr>\n",
       "      <th>4</th>\n",
       "      <td>2022-01-30</td>\n",
       "      <td>Makro</td>\n",
       "      <td>650240035159</td>\n",
       "      <td>650240035159</td>\n",
       "      <td>ACONDICIONADOR TIO NACHO ENGROSADOR 415ml</td>\n",
       "      <td>13 - CALNO</td>\n",
       "      <td>0</td>\n",
       "    </tr>\n",
       "    <tr>\n",
       "      <th>...</th>\n",
       "      <td>...</td>\n",
       "      <td>...</td>\n",
       "      <td>...</td>\n",
       "      <td>...</td>\n",
       "      <td>...</td>\n",
       "      <td>...</td>\n",
       "      <td>...</td>\n",
       "    </tr>\n",
       "    <tr>\n",
       "      <th>954</th>\n",
       "      <td>2022-01-30</td>\n",
       "      <td>Makro</td>\n",
       "      <td>7798140258513</td>\n",
       "      <td>7798140258513</td>\n",
       "      <td>TRATAMIENTO TIO NACHO ULTRAHIDRATANTE COCO 200g</td>\n",
       "      <td>8 - ABOYA</td>\n",
       "      <td>9</td>\n",
       "    </tr>\n",
       "    <tr>\n",
       "      <th>955</th>\n",
       "      <td>2022-01-30</td>\n",
       "      <td>Makro</td>\n",
       "      <td>7798140258513</td>\n",
       "      <td>7798140258513</td>\n",
       "      <td>TRATAMIENTO TIO NACHO ULTRAHIDRATANTE COCO 200g</td>\n",
       "      <td>9 - IBAGU</td>\n",
       "      <td>3</td>\n",
       "    </tr>\n",
       "    <tr>\n",
       "      <th>956</th>\n",
       "      <td>2022-01-30</td>\n",
       "      <td>Makro</td>\n",
       "      <td>7798140258513</td>\n",
       "      <td>7798140258513</td>\n",
       "      <td>TRATAMIENTO TIO NACHO ULTRAHIDRATANTE COCO 200g</td>\n",
       "      <td>90000 - Cross Docking</td>\n",
       "      <td>0</td>\n",
       "    </tr>\n",
       "    <tr>\n",
       "      <th>957</th>\n",
       "      <td>2022-01-30</td>\n",
       "      <td>Makro</td>\n",
       "      <td>7798140258513</td>\n",
       "      <td>7798140258513</td>\n",
       "      <td>TRATAMIENTO TIO NACHO ULTRAHIDRATANTE COCO 200g</td>\n",
       "      <td>91 - TAT</td>\n",
       "      <td>0</td>\n",
       "    </tr>\n",
       "    <tr>\n",
       "      <th>958</th>\n",
       "      <td>2022-01-30</td>\n",
       "      <td>Makro</td>\n",
       "      <td>7798140258513</td>\n",
       "      <td>7798140258513</td>\n",
       "      <td>TRATAMIENTO TIO NACHO ULTRAHIDRATANTE COCO 200g</td>\n",
       "      <td>92 - DELIV BOG</td>\n",
       "      <td>0</td>\n",
       "    </tr>\n",
       "  </tbody>\n",
       "</table>\n",
       "<p>887 rows × 7 columns</p>\n",
       "</div>"
      ],
      "text/plain": [
       "    Fecha_Venta Cadena  Cod_Prod de la Cadena  EAN o UPC Genomma  \\\n",
       "0    2022-01-30  Makro           650240035159       650240035159   \n",
       "1    2022-01-30  Makro           650240035159       650240035159   \n",
       "2    2022-01-30  Makro           650240035159       650240035159   \n",
       "3    2022-01-30  Makro           650240035159       650240035159   \n",
       "4    2022-01-30  Makro           650240035159       650240035159   \n",
       "..          ...    ...                    ...                ...   \n",
       "954  2022-01-30  Makro          7798140258513      7798140258513   \n",
       "955  2022-01-30  Makro          7798140258513      7798140258513   \n",
       "956  2022-01-30  Makro          7798140258513      7798140258513   \n",
       "957  2022-01-30  Makro          7798140258513      7798140258513   \n",
       "958  2022-01-30  Makro          7798140258513      7798140258513   \n",
       "\n",
       "                                    Descripcion_Prod              Cod_Local  \\\n",
       "0          ACONDICIONADOR TIO NACHO ENGROSADOR 415ml              1 - VDRIO   \n",
       "1          ACONDICIONADOR TIO NACHO ENGROSADOR 415ml             10 - CARTG   \n",
       "2          ACONDICIONADOR TIO NACHO ENGROSADOR 415ml             11 - CLL30   \n",
       "3          ACONDICIONADOR TIO NACHO ENGROSADOR 415ml             12 - VVCIO   \n",
       "4          ACONDICIONADOR TIO NACHO ENGROSADOR 415ml             13 - CALNO   \n",
       "..                                               ...                    ...   \n",
       "954  TRATAMIENTO TIO NACHO ULTRAHIDRATANTE COCO 200g              8 - ABOYA   \n",
       "955  TRATAMIENTO TIO NACHO ULTRAHIDRATANTE COCO 200g              9 - IBAGU   \n",
       "956  TRATAMIENTO TIO NACHO ULTRAHIDRATANTE COCO 200g  90000 - Cross Docking   \n",
       "957  TRATAMIENTO TIO NACHO ULTRAHIDRATANTE COCO 200g               91 - TAT   \n",
       "958  TRATAMIENTO TIO NACHO ULTRAHIDRATANTE COCO 200g         92 - DELIV BOG   \n",
       "\n",
       "    Unidades Stock  \n",
       "0                0  \n",
       "1               10  \n",
       "2                0  \n",
       "3                0  \n",
       "4                0  \n",
       "..             ...  \n",
       "954              9  \n",
       "955              3  \n",
       "956              0  \n",
       "957              0  \n",
       "958              0  \n",
       "\n",
       "[887 rows x 7 columns]"
      ]
     },
     "execution_count": 99,
     "metadata": {},
     "output_type": "execute_result"
    }
   ],
   "source": [
    "data[['Fecha_Venta', 'Cadena', 'Cod_Prod de la Cadena', 'EAN o UPC Genomma', 'Descripcion_Prod', 'Cod_Local', 'Unidades Stock']]"
   ]
  },
  {
   "cell_type": "code",
   "execution_count": 100,
   "metadata": {},
   "outputs": [
    {
     "data": {
      "text/plain": [
       "714"
      ]
     },
     "execution_count": 100,
     "metadata": {},
     "output_type": "execute_result"
    }
   ],
   "source": [
    "data['Unidades'].sum()"
   ]
  },
  {
   "cell_type": "code",
   "execution_count": null,
   "metadata": {},
   "outputs": [],
   "source": []
  },
  {
   "cell_type": "markdown",
   "metadata": {},
   "source": [
    "Creamos una pivot tables para exportar:"
   ]
  },
  {
   "cell_type": "code",
   "execution_count": 8,
   "metadata": {},
   "outputs": [],
   "source": [
    "final = data.pivot_table(index=['Descripción'], \n",
    "                         values=['Cantidad de stock', 'Cantidad de ventas'], \n",
    "                         aggfunc='sum').reset_index()"
   ]
  },
  {
   "cell_type": "code",
   "execution_count": 9,
   "metadata": {},
   "outputs": [
    {
     "data": {
      "text/html": [
       "<div>\n",
       "<style scoped>\n",
       "    .dataframe tbody tr th:only-of-type {\n",
       "        vertical-align: middle;\n",
       "    }\n",
       "\n",
       "    .dataframe tbody tr th {\n",
       "        vertical-align: top;\n",
       "    }\n",
       "\n",
       "    .dataframe thead th {\n",
       "        text-align: right;\n",
       "    }\n",
       "</style>\n",
       "<table border=\"1\" class=\"dataframe\">\n",
       "  <thead>\n",
       "    <tr style=\"text-align: right;\">\n",
       "      <th></th>\n",
       "      <th>Descripción</th>\n",
       "      <th>Cantidad de stock</th>\n",
       "      <th>Cantidad de ventas</th>\n",
       "    </tr>\n",
       "  </thead>\n",
       "  <tbody>\n",
       "    <tr>\n",
       "      <th>0</th>\n",
       "      <td>ACONDICIONADOR TIO NACHO ENGROSADOR 415ml</td>\n",
       "      <td>243</td>\n",
       "      <td>33</td>\n",
       "    </tr>\n",
       "    <tr>\n",
       "      <th>1</th>\n",
       "      <td>ACONDICIONADOR ANTIESPONJADO COCO KERATINA VAN...</td>\n",
       "      <td>562</td>\n",
       "      <td>28</td>\n",
       "    </tr>\n",
       "    <tr>\n",
       "      <th>2</th>\n",
       "      <td>ACONDICIONADOR LISO COCO KERATINA VANART 600ml</td>\n",
       "      <td>547</td>\n",
       "      <td>9</td>\n",
       "    </tr>\n",
       "  </tbody>\n",
       "</table>\n",
       "</div>"
      ],
      "text/plain": [
       "                                         Descripción  Cantidad de stock  \\\n",
       "0          ACONDICIONADOR TIO NACHO ENGROSADOR 415ml                243   \n",
       "1  ACONDICIONADOR ANTIESPONJADO COCO KERATINA VAN...                562   \n",
       "2     ACONDICIONADOR LISO COCO KERATINA VANART 600ml                547   \n",
       "\n",
       "   Cantidad de ventas  \n",
       "0                  33  \n",
       "1                  28  \n",
       "2                   9  "
      ]
     },
     "execution_count": 9,
     "metadata": {},
     "output_type": "execute_result"
    }
   ],
   "source": [
    "final[:3]"
   ]
  },
  {
   "cell_type": "code",
   "execution_count": 12,
   "metadata": {},
   "outputs": [],
   "source": [
    "final.to_excel(path + '\\\\Makro_{0}_{1}.xlsx'.format(year, str(week).zfill(2)), \n",
    "               index=False,\n",
    "               sheet_name=f'Semana {week}')"
   ]
  },
  {
   "cell_type": "markdown",
   "metadata": {},
   "source": [
    "# Next Steps"
   ]
  },
  {
   "cell_type": "markdown",
   "metadata": {},
   "source": [
    "- Maestra para cruzar las Descripciones y obtener los EAN\n",
    "- Pedir catálogo de direcciones por PDV al cliente Makro\n",
    "    - Dar de alta en el DWH las sucursales\n",
    "- Hacer el cruce de productos para obtener el ProPstID\n",
    "- Hacer el cruce con el catálogo de precios\n",
    "- Traer la fecha"
   ]
  },
  {
   "cell_type": "code",
   "execution_count": null,
   "metadata": {},
   "outputs": [],
   "source": []
  }
 ],
 "metadata": {
  "kernelspec": {
   "display_name": "Python 3 (ipykernel)",
   "language": "python",
   "name": "python3"
  },
  "language_info": {
   "codemirror_mode": {
    "name": "ipython",
    "version": 3
   },
   "file_extension": ".py",
   "mimetype": "text/x-python",
   "name": "python",
   "nbconvert_exporter": "python",
   "pygments_lexer": "ipython3",
   "version": "3.8.10"
  },
  "toc": {
   "base_numbering": 1,
   "nav_menu": {},
   "number_sections": true,
   "sideBar": true,
   "skip_h1_title": false,
   "title_cell": "Table of Contents",
   "title_sidebar": "Contents",
   "toc_cell": false,
   "toc_position": {
    "height": "calc(100% - 180px)",
    "left": "10px",
    "top": "150px",
    "width": "165px"
   },
   "toc_section_display": true,
   "toc_window_display": false
  }
 },
 "nbformat": 4,
 "nbformat_minor": 4
}
