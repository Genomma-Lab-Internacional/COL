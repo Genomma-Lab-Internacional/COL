{
 "cells": [
  {
   "cell_type": "markdown",
   "metadata": {},
   "source": [
    "# Libraries"
   ]
  },
  {
   "cell_type": "code",
   "execution_count": 32,
   "metadata": {},
   "outputs": [
    {
     "data": {
      "application/javascript": "if (!(\"Notification\" in window)) {\n    alert(\"This browser does not support desktop notifications, so the %%notify magic will not work.\");\n} else if (Notification.permission !== 'granted' && Notification.permission !== 'denied') {\n    Notification.requestPermission(function (permission) {\n        if(!('permission' in Notification)) {\n            Notification.permission = permission;\n        }\n    })\n}\n",
      "text/plain": [
       "<IPython.core.display.Javascript object>"
      ]
     },
     "metadata": {},
     "output_type": "display_data"
    }
   ],
   "source": [
    "import pandas as pd\n",
    "import pyodbc\n",
    "import os\n",
    "from datetime import datetime\n",
    "from openpyxl import load_workbook\n",
    "import shutil\n",
    "import jupyternotify\n",
    "ip = get_ipython()\n",
    "ip.register_magics(jupyternotify.JupyterNotifyMagics)"
   ]
  },
  {
   "cell_type": "markdown",
   "metadata": {},
   "source": [
    "# Parameters"
   ]
  },
  {
   "cell_type": "code",
   "execution_count": 33,
   "metadata": {},
   "outputs": [],
   "source": [
    "year = 2021\n",
    "week = 27\n",
    "\n",
    "# La ruta donde está la raw data\n",
    "path_raw_data = r'C:\\Users\\jshernandezm\\genommalabinternacional\\Cristian Javier Sanchez Yepez - NoB2B\\Copservir\\Copservir Faltante\\{0}\\S {1}\\{0}_{1}.xlsx'\n",
    "path_raw_data = path_raw_data.format(year, str(week).zfill(2))\n",
    "\n",
    "# La ruta donde están las maestras\n",
    "path = r'C:\\Users\\jshernandezm\\OneDrive - genommalabinternacional\\02Paises\\COL\\Copservir'\n",
    "\n",
    "# La ruta donde guardaré el layout No B2B de ISV\n",
    "path_original_layout = r'C:\\Users\\jshernandezm\\OneDrive - genommalabinternacional\\COL\\ISV\\No B2B\\Data'"
   ]
  },
  {
   "cell_type": "markdown",
   "metadata": {},
   "source": [
    "# Import Data"
   ]
  },
  {
   "cell_type": "code",
   "execution_count": 34,
   "metadata": {},
   "outputs": [
    {
     "name": "stdout",
     "output_type": "stream",
     "text": [
      "Wall time: 37.5 s\n"
     ]
    }
   ],
   "source": [
    "%%time\n",
    "# Importación de la data semanal correspondiente\n",
    "df = pd.read_excel(path_raw_data.format(year, str(week).zfill(2)))\n",
    "\n",
    "# Importación de la maestra de locales\n",
    "df_pos = pd.read_excel(path + '\\\\Maestra Locales Copservir.xlsx')\n",
    "\n",
    "# Importación de la maestra de precios y productos\n",
    "df_prices = pd.read_excel(path + '\\\\Maestra Precios Copservir.xlsx')"
   ]
  },
  {
   "cell_type": "markdown",
   "metadata": {},
   "source": [
    "# Connection to DWH"
   ]
  },
  {
   "cell_type": "code",
   "execution_count": 35,
   "metadata": {},
   "outputs": [],
   "source": [
    "conn = pyodbc.connect('Driver={SQL Server};'\n",
    "                      'Server=SFEDWH01;'\n",
    "                     'Trusted_Connection=yes;')\n",
    "\n",
    "qday = '''SELECT SemFin FROM Gnm_MasterOp.dbo.CatSemanas WHERE SemAnio = {0} AND SemNumero = {1};'''"
   ]
  },
  {
   "cell_type": "code",
   "execution_count": 36,
   "metadata": {},
   "outputs": [],
   "source": [
    "dday = pd.read_sql(qday.format(year, week), conn)"
   ]
  },
  {
   "cell_type": "markdown",
   "metadata": {},
   "source": [
    "# Clean Data & Merge"
   ]
  },
  {
   "cell_type": "markdown",
   "metadata": {},
   "source": [
    "Se crea un tabla dinámica y un par de columnas, además se renombran algunas columnas."
   ]
  },
  {
   "cell_type": "code",
   "execution_count": 37,
   "metadata": {},
   "outputs": [],
   "source": [
    "df = df.pivot_table(\n",
    "    index = ['codHoml', 'Código producto'], \n",
    "    values = ['Cantidad Saldo', 'so'], \n",
    "    aggfunc = 'sum'\n",
    ").reset_index()\n",
    "\n",
    "df['Fecha_Venta'] = dday.loc[0, 'SemFin']\n",
    "df['Cadena'] = 'Copservir'"
   ]
  },
  {
   "cell_type": "code",
   "execution_count": 38,
   "metadata": {},
   "outputs": [],
   "source": [
    "def unique_values(df, column):\n",
    "    data = df.copy()\n",
    "    vals_duplic = data[column].value_counts()[data[column].value_counts() > 1].index.tolist()\n",
    "    data_unique_values = data[~data[column].isin(vals_duplic)].copy()\n",
    "    for v in vals_duplic:\n",
    "        data_unique_values = pd.concat([data_unique_values, data[data[column] == v][:1]], axis=0)\n",
    "    data_unique_values.reset_index(drop=True, inplace=True)\n",
    "    return data_unique_values"
   ]
  },
  {
   "cell_type": "code",
   "execution_count": 39,
   "metadata": {},
   "outputs": [],
   "source": [
    "data_pos = unique_values(df_pos, 'PDV')"
   ]
  },
  {
   "cell_type": "code",
   "execution_count": 41,
   "metadata": {},
   "outputs": [
    {
     "data": {
      "text/plain": [
       "True"
      ]
     },
     "execution_count": 41,
     "metadata": {},
     "output_type": "execute_result"
    }
   ],
   "source": [
    "final = pd.merge(df, data_pos, left_on='codHoml', right_on='PDV', how='left')\n",
    "final = final.merge(df_prices, left_on='Código producto', right_on='Cod_Hom', how='left')\n",
    "df.shape[0] == final.shape[0]"
   ]
  },
  {
   "cell_type": "code",
   "execution_count": 42,
   "metadata": {},
   "outputs": [
    {
     "data": {
      "text/plain": [
       "codHoml            0\n",
       "Código producto    0\n",
       "Cantidad Saldo     0\n",
       "so                 0\n",
       "Fecha_Venta        0\n",
       "Cadena             0\n",
       "PDV                0\n",
       "NOMBRE PDV         0\n",
       "Cod_Hom            0\n",
       "Cod_Prod           0\n",
       "EAN                0\n",
       "Descripcion        0\n",
       "Precio             0\n",
       "dtype: int64"
      ]
     },
     "execution_count": 42,
     "metadata": {},
     "output_type": "execute_result"
    }
   ],
   "source": [
    "final.isnull().sum()"
   ]
  },
  {
   "cell_type": "code",
   "execution_count": 43,
   "metadata": {},
   "outputs": [],
   "source": [
    "# Creamos 2 listas de las columnas de Sell Out e Inventario para exportarlos\n",
    "cols_sellout = ['Fecha_Venta', 'Cadena', 'Código producto', 'EAN', 'Descripcion', 'PDV', 'NOMBRE PDV', 'so']\n",
    "\n",
    "cols_stock = ['Fecha_Venta', 'Cadena', 'Código producto', 'EAN', 'Descripcion', 'PDV', 'NOMBRE PDV', 'Cantidad Saldo']"
   ]
  },
  {
   "cell_type": "markdown",
   "metadata": {},
   "source": [
    "# Export data"
   ]
  },
  {
   "cell_type": "code",
   "execution_count": null,
   "metadata": {},
   "outputs": [],
   "source": [
    "def write_layout(filename, df, sellout=True):\n",
    "    writer = pd.ExcelWriter(filename, engine='openpyxl', mode='a')\n",
    "    writer.book = load_workbook(filename)\n",
    "    writer.sheets = {ws.title:ws for ws in writer.book.worksheets}\n",
    "    if sellout == True:\n",
    "        df.to_excel(writer, sheet_name='Ventas', startcol=1, startrow=18, index=False, header=None)\n",
    "    else:\n",
    "        df.to_excel(writer, sheet_name='Stock', startcol=1, startrow=18, index=False, header=None)\n",
    "    writer.save()"
   ]
  },
  {
   "cell_type": "markdown",
   "metadata": {},
   "source": [
    "Creando un nuevo folder donde se guardará el archivo ISV No B2B con la información de Copservir"
   ]
  },
  {
   "cell_type": "code",
   "execution_count": null,
   "metadata": {},
   "outputs": [],
   "source": [
    "new_folder = path_original_layout + '\\\\{0}\\\\{1}'.format(year, str(week).zfill(2))\n",
    "\n",
    "if not os.path.exists(new_folder):\n",
    "    os.mkdir(new_folder)"
   ]
  },
  {
   "cell_type": "markdown",
   "metadata": {},
   "source": [
    "Creando la ruta de donde se encuentra el layout de ISV y donde vamos a exportar la información"
   ]
  },
  {
   "cell_type": "code",
   "execution_count": null,
   "metadata": {},
   "outputs": [],
   "source": [
    "path_original_layout = path_original_layout + '\\\\Formato No B2B.xlsx'\n",
    "filename = 'Formato No B2B Copservir {1} - {0}.xlsx'.format(year, str(week).zfill(2))\n",
    "path_export = new_folder + '\\\\' + filename"
   ]
  },
  {
   "cell_type": "markdown",
   "metadata": {},
   "source": [
    "Exportación tanto de sell out como inventario:"
   ]
  },
  {
   "cell_type": "code",
   "execution_count": null,
   "metadata": {},
   "outputs": [],
   "source": [
    "%%time\n",
    "shutil.copy(path_original_layout, path_export)\n",
    "write_layout(path_export, final[cols_sellout], True)\n",
    "write_layout(path_export, final[cols_stock], False)"
   ]
  }
 ],
 "metadata": {
  "kernelspec": {
   "display_name": "Python 3 (ipykernel)",
   "language": "python",
   "name": "python3"
  },
  "language_info": {
   "codemirror_mode": {
    "name": "ipython",
    "version": 3
   },
   "file_extension": ".py",
   "mimetype": "text/x-python",
   "name": "python",
   "nbconvert_exporter": "python",
   "pygments_lexer": "ipython3",
   "version": "3.8.10"
  },
  "toc": {
   "base_numbering": 1,
   "nav_menu": {},
   "number_sections": true,
   "sideBar": true,
   "skip_h1_title": false,
   "title_cell": "Table of Contents",
   "title_sidebar": "Contents",
   "toc_cell": false,
   "toc_position": {
    "height": "calc(100% - 180px)",
    "left": "10px",
    "top": "150px",
    "width": "256px"
   },
   "toc_section_display": true,
   "toc_window_display": false
  }
 },
 "nbformat": 4,
 "nbformat_minor": 4
}
