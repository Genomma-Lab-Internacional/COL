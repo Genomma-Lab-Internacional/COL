{
 "cells": [
  {
   "cell_type": "markdown",
   "metadata": {},
   "source": [
    "# Libraries"
   ]
  },
  {
   "cell_type": "code",
   "execution_count": 2,
   "metadata": {},
   "outputs": [
    {
     "data": {
      "application/javascript": [
       "if (!(\"Notification\" in window)) {\n",
       "    alert(\"This browser does not support desktop notifications, so the %%notify magic will not work.\");\n",
       "} else if (Notification.permission !== 'granted' && Notification.permission !== 'denied') {\n",
       "    Notification.requestPermission(function (permission) {\n",
       "        if(!('permission' in Notification)) {\n",
       "            Notification.permission = permission;\n",
       "        }\n",
       "    })\n",
       "}\n"
      ],
      "text/plain": [
       "<IPython.core.display.Javascript object>"
      ]
     },
     "metadata": {},
     "output_type": "display_data"
    }
   ],
   "source": [
    "import pandas as pd\n",
    "import pyodbc\n",
    "import os\n",
    "from datetime import datetime\n",
    "from openpyxl import load_workbook\n",
    "import shutil\n",
    "import jupyternotify\n",
    "ip = get_ipython()\n",
    "ip.register_magics(jupyternotify.JupyterNotifyMagics)"
   ]
  },
  {
   "cell_type": "markdown",
   "metadata": {},
   "source": [
    "# Parameters"
   ]
  },
  {
   "cell_type": "code",
   "execution_count": 3,
   "metadata": {},
   "outputs": [],
   "source": [
    "year = 2021\n",
    "week = 27\n",
    "\n",
    "# La ruta donde está la raw data\n",
    "path_raw_data = r'C:\\Users\\jshernandezm\\genommalabinternacional\\Cristian Javier Sanchez Yepez - NoB2B\\Copservir\\Copservir Faltante\\{0}\\S {1}\\{0}_{1}.xlsx'\n",
    "path_raw_data = path_raw_data.format(year, str(week).zfill(2))\n",
    "\n",
    "# La ruta donde guardaré el layout No B2B de ISV\n",
    "path_isv = '../../../../../../../02Paises/Colombia/Copservir/'"
   ]
  },
  {
   "cell_type": "markdown",
   "metadata": {},
   "source": [
    "# Import Data"
   ]
  },
  {
   "cell_type": "code",
   "execution_count": 5,
   "metadata": {},
   "outputs": [
    {
     "name": "stdout",
     "output_type": "stream",
     "text": [
      "Wall time: 22 s\n"
     ]
    }
   ],
   "source": [
    "%%time\n",
    "# Importación de la data semanal correspondiente\n",
    "df_sem = pd.read_excel(path_raw_data.format(year, str(week).zfill(2)))\n",
    "\n",
    "# Importación de la maestra de locales\n",
    "#df_pos = pd.read_excel(path_isv + 'Maestra Locales Copservir.xlsx')\n",
    "\n",
    "#df_prices = pd.read_excel(path + 'Maestra Precios Copservir.xlsx')"
   ]
  },
  {
   "cell_type": "markdown",
   "metadata": {},
   "source": [
    "# Connection to DWH"
   ]
  },
  {
   "cell_type": "code",
   "execution_count": 8,
   "metadata": {},
   "outputs": [],
   "source": [
    "conn = pyodbc.connect('Driver={SQL Server};'\n",
    "                      'Server=SFEDWH01;'\n",
    "                     'Trusted_Connection=yes;')\n",
    "\n",
    "qday = '''SELECT SemFin FROM Gnm_MasterOp.dbo.CatSemanas WHERE SemAnio = {0} AND SemNumero = {1};'''"
   ]
  },
  {
   "cell_type": "code",
   "execution_count": 9,
   "metadata": {},
   "outputs": [],
   "source": [
    "dday = pd.read_sql(qday.format(year, week), conn)"
   ]
  },
  {
   "cell_type": "markdown",
   "metadata": {},
   "source": [
    "# Clean Data & Merge"
   ]
  },
  {
   "cell_type": "markdown",
   "metadata": {},
   "source": [
    "Se crea un tabla dinámica y un par de columnas, además se renombran algunas columnas."
   ]
  },
  {
   "cell_type": "code",
   "execution_count": 11,
   "metadata": {},
   "outputs": [],
   "source": [
    "df = df_sem.pivot_table(\n",
    "    index = ['codHoml', 'Código producto'], \n",
    "    values = ['Cantidad Saldo', 'so'], \n",
    "    aggfunc = 'sum'\n",
    ").reset_index()\n",
    "\n",
    "df['Fecha_Venta'] = dday.loc[0, 'SemFin']\n",
    "df['Cadena'] = 'Copservir'\n",
    "\n",
    "df.rename({\n",
    "    'codHoml':'cod', \n",
    "    'Código producto':'Cod_Hom',\n",
    "    'Cantidad Saldo':'Inv',\n",
    "    'PDV':'cod'}, \n",
    "    axis=1, inplace=True)"
   ]
  },
  {
   "cell_type": "code",
   "execution_count": 14,
   "metadata": {},
   "outputs": [
    {
     "data": {
      "text/plain": [
       "BOG    144\n",
       "BAR    144\n",
       "BUC    144\n",
       "CAL    144\n",
       "3H5    120\n",
       "      ... \n",
       "5M6     52\n",
       "929     51\n",
       "5L6     49\n",
       "947     44\n",
       "5N1     44\n",
       "Name: cod, Length: 957, dtype: int64"
      ]
     },
     "execution_count": 14,
     "metadata": {},
     "output_type": "execute_result"
    }
   ],
   "source": [
    "df['cod'].value_counts()"
   ]
  },
  {
   "cell_type": "code",
   "execution_count": 7,
   "metadata": {},
   "outputs": [],
   "source": [
    "def unique_values(df):\n",
    "    data = df.copy()\n",
    "    vals_duplic = data['cod'].value_counts()[data['cod'].value_counts() > 1].index.tolist()\n",
    "    data_unique_values = data[~data['cod'].isin(vals_duplic)].copy()\n",
    "    for v in vals_duplic:\n",
    "        data_unique_values = pd.concat([data_unique_values, data[data['cod'] == v][:1]], axis=0)\n",
    "    data_unique_values.reset_index(drop=True, inplace=True)\n",
    "    return data_unique_values"
   ]
  },
  {
   "cell_type": "code",
   "execution_count": 8,
   "metadata": {},
   "outputs": [],
   "source": [
    "data_pos = unique_values(df_pos)"
   ]
  },
  {
   "cell_type": "code",
   "execution_count": 9,
   "metadata": {},
   "outputs": [
    {
     "data": {
      "text/html": [
       "<div>\n",
       "<style scoped>\n",
       "    .dataframe tbody tr th:only-of-type {\n",
       "        vertical-align: middle;\n",
       "    }\n",
       "\n",
       "    .dataframe tbody tr th {\n",
       "        vertical-align: top;\n",
       "    }\n",
       "\n",
       "    .dataframe thead th {\n",
       "        text-align: right;\n",
       "    }\n",
       "</style>\n",
       "<table border=\"1\" class=\"dataframe\">\n",
       "  <thead>\n",
       "    <tr style=\"text-align: right;\">\n",
       "      <th></th>\n",
       "      <th>cod</th>\n",
       "      <th>Cod_Hom</th>\n",
       "      <th>Inv</th>\n",
       "      <th>so</th>\n",
       "      <th>Fecha_Venta</th>\n",
       "      <th>Cadena</th>\n",
       "    </tr>\n",
       "  </thead>\n",
       "  <tbody>\n",
       "    <tr>\n",
       "      <th>0</th>\n",
       "      <td>101</td>\n",
       "      <td>15706</td>\n",
       "      <td>2.0</td>\n",
       "      <td>0.0</td>\n",
       "      <td>2021-07-04</td>\n",
       "      <td>Copservir</td>\n",
       "    </tr>\n",
       "    <tr>\n",
       "      <th>1</th>\n",
       "      <td>101</td>\n",
       "      <td>27543</td>\n",
       "      <td>1.0</td>\n",
       "      <td>0.0</td>\n",
       "      <td>2021-07-04</td>\n",
       "      <td>Copservir</td>\n",
       "    </tr>\n",
       "  </tbody>\n",
       "</table>\n",
       "</div>"
      ],
      "text/plain": [
       "   cod  Cod_Hom  Inv   so Fecha_Venta     Cadena\n",
       "0  101    15706  2.0  0.0  2021-07-04  Copservir\n",
       "1  101    27543  1.0  0.0  2021-07-04  Copservir"
      ]
     },
     "execution_count": 9,
     "metadata": {},
     "output_type": "execute_result"
    }
   ],
   "source": [
    "df[:2]"
   ]
  },
  {
   "cell_type": "code",
   "execution_count": 10,
   "metadata": {},
   "outputs": [
    {
     "data": {
      "text/plain": [
       "True"
      ]
     },
     "execution_count": 10,
     "metadata": {},
     "output_type": "execute_result"
    }
   ],
   "source": [
    "# Cruzamos ambas maestras con los datos de SO y Stock\n",
    "final = pd.merge(pd.merge(df, data_pos, on='cod', how='left'), df_prices, on='Cod_Hom', how='left')\n",
    "df.shape[0] == final.shape[0]"
   ]
  },
  {
   "cell_type": "code",
   "execution_count": 11,
   "metadata": {},
   "outputs": [],
   "source": [
    "# Agregamos el Monto de las Ventas\n",
    "final['Costo_SO'] = final['so']*final['Precio']\n",
    "\n",
    "# Agregamos el Monto del Stock\n",
    "final['Costo_Stock'] = final['Inv']*final['Precio']"
   ]
  },
  {
   "cell_type": "code",
   "execution_count": 12,
   "metadata": {},
   "outputs": [],
   "source": [
    "# Creamos 2 dfs para guardar los datos necesarios\n",
    "\n",
    "SO = final[['Fecha_Venta', 'Cadena', 'Cod_Prod', 'EAN', 'Descripcion', 'cod', 'NOMBRE PDV', 'so', 'Costo_SO']].copy()\n",
    "\n",
    "Stock = final[['Fecha_Venta', 'Cadena', 'Cod_Prod', 'EAN', 'Descripcion', 'cod', 'NOMBRE PDV', 'Inv', 'Costo_Stock']].copy()"
   ]
  },
  {
   "cell_type": "code",
   "execution_count": 13,
   "metadata": {},
   "outputs": [
    {
     "data": {
      "text/plain": [
       "Fecha_Venta    0\n",
       "Cadena         0\n",
       "Cod_Prod       0\n",
       "EAN            0\n",
       "Descripcion    0\n",
       "cod            0\n",
       "NOMBRE PDV     0\n",
       "so             0\n",
       "Costo_SO       0\n",
       "dtype: int64"
      ]
     },
     "execution_count": 13,
     "metadata": {},
     "output_type": "execute_result"
    }
   ],
   "source": [
    "SO.isnull().sum()"
   ]
  },
  {
   "cell_type": "code",
   "execution_count": 14,
   "metadata": {},
   "outputs": [
    {
     "data": {
      "text/plain": [
       "array([], dtype=int64)"
      ]
     },
     "execution_count": 14,
     "metadata": {},
     "output_type": "execute_result"
    }
   ],
   "source": [
    "final['Cod_Hom'][final['Cod_Prod'].isnull()].unique()"
   ]
  },
  {
   "cell_type": "code",
   "execution_count": 15,
   "metadata": {},
   "outputs": [
    {
     "data": {
      "text/plain": [
       "array([], dtype=object)"
      ]
     },
     "execution_count": 15,
     "metadata": {},
     "output_type": "execute_result"
    }
   ],
   "source": [
    "final['cod'][final['NOMBRE PDV'].isnull()].unique()"
   ]
  },
  {
   "cell_type": "code",
   "execution_count": 16,
   "metadata": {},
   "outputs": [
    {
     "data": {
      "text/html": [
       "<div>\n",
       "<style scoped>\n",
       "    .dataframe tbody tr th:only-of-type {\n",
       "        vertical-align: middle;\n",
       "    }\n",
       "\n",
       "    .dataframe tbody tr th {\n",
       "        vertical-align: top;\n",
       "    }\n",
       "\n",
       "    .dataframe thead th {\n",
       "        text-align: right;\n",
       "    }\n",
       "</style>\n",
       "<table border=\"1\" class=\"dataframe\">\n",
       "  <thead>\n",
       "    <tr style=\"text-align: right;\">\n",
       "      <th></th>\n",
       "      <th>cod</th>\n",
       "      <th>Cod_Hom</th>\n",
       "      <th>Inv</th>\n",
       "      <th>so</th>\n",
       "      <th>Fecha_Venta</th>\n",
       "      <th>Cadena</th>\n",
       "      <th>NOMBRE PDV</th>\n",
       "      <th>Cod_Prod</th>\n",
       "      <th>EAN</th>\n",
       "      <th>Descripcion</th>\n",
       "      <th>Precio</th>\n",
       "      <th>Unnamed: 5</th>\n",
       "      <th>Unnamed: 6</th>\n",
       "      <th>Unnamed: 7</th>\n",
       "      <th>Unnamed: 8</th>\n",
       "      <th>Costo_SO</th>\n",
       "      <th>Costo_Stock</th>\n",
       "    </tr>\n",
       "  </thead>\n",
       "  <tbody>\n",
       "  </tbody>\n",
       "</table>\n",
       "</div>"
      ],
      "text/plain": [
       "Empty DataFrame\n",
       "Columns: [cod, Cod_Hom, Inv, so, Fecha_Venta, Cadena, NOMBRE PDV, Cod_Prod, EAN, Descripcion, Precio, Unnamed: 5, Unnamed: 6, Unnamed: 7, Unnamed: 8, Costo_SO, Costo_Stock]\n",
       "Index: []"
      ]
     },
     "execution_count": 16,
     "metadata": {},
     "output_type": "execute_result"
    }
   ],
   "source": [
    "final[final['Cod_Prod'].isnull()]"
   ]
  },
  {
   "cell_type": "code",
   "execution_count": 17,
   "metadata": {},
   "outputs": [
    {
     "data": {
      "text/plain": [
       "8804.880208328"
      ]
     },
     "execution_count": 17,
     "metadata": {},
     "output_type": "execute_result"
    }
   ],
   "source": [
    "SO['so'].sum()"
   ]
  },
  {
   "cell_type": "code",
   "execution_count": 18,
   "metadata": {},
   "outputs": [
    {
     "data": {
      "text/plain": [
       "202763.6999"
      ]
     },
     "execution_count": 18,
     "metadata": {},
     "output_type": "execute_result"
    }
   ],
   "source": [
    "Stock['Inv'].sum()"
   ]
  },
  {
   "cell_type": "code",
   "execution_count": 19,
   "metadata": {},
   "outputs": [
    {
     "data": {
      "text/plain": [
       "Fecha_Venta    0\n",
       "Cadena         0\n",
       "Cod_Prod       0\n",
       "EAN            0\n",
       "Descripcion    0\n",
       "cod            0\n",
       "NOMBRE PDV     0\n",
       "Inv            0\n",
       "Costo_Stock    0\n",
       "dtype: int64"
      ]
     },
     "execution_count": 19,
     "metadata": {},
     "output_type": "execute_result"
    }
   ],
   "source": [
    "Stock.isnull().sum()"
   ]
  },
  {
   "cell_type": "markdown",
   "metadata": {},
   "source": [
    "# Export data"
   ]
  },
  {
   "cell_type": "markdown",
   "metadata": {},
   "source": [
    "def write_layout(filename, df, sellout=True):\n",
    "    writer = pd.ExcelWriter(filename, engine='openpyxl', mode='a')\n",
    "    writer.book = load_workbook(filename)\n",
    "    writer.sheets = {ws.title:ws for ws in writer.book.worksheets}\n",
    "    if sellout == True:\n",
    "        df.to_excel(writer, sheet_name='Ventas', startcol=1, startrow=18, index=False, header=None)\n",
    "    else:\n",
    "        df.to_excel(writer, sheet_name='Stock', startcol=1, startrow=18, index=False, header=None)\n",
    "    writer.save()"
   ]
  },
  {
   "cell_type": "code",
   "execution_count": null,
   "metadata": {},
   "outputs": [],
   "source": [
    "%%notify -m \"¡Exportación lista!\"\n",
    "%%time\n",
    "# Creamos un nuevo folder en donde agregamos el layout para exportar a ISV\n",
    "path_export = '../../../../1Data/2Catalogue/toISV/2021/'\n",
    "original = path_export + 'Formato No B2B Orig.xlsx'\n",
    "new_folder = path_export + 'S' + week\n",
    "try:\n",
    "    os.mkdir(new_folder)\n",
    "except:\n",
    "    pass\n",
    "\n",
    "# Exportamos los datos al layout de ISV\n",
    "filename = 'Formato No B2B COPSERVIR Sem ' + str(week).zfill(2)\n",
    "path_export = new_folder + '/' + filename +'.xlsx'\n",
    "shutil.copy(original, path_export)\n",
    "write_layout(path_export, SO, True)\n",
    "write_layout(path_export, Stock, False)"
   ]
  }
 ],
 "metadata": {
  "kernelspec": {
   "display_name": "Python 3 (ipykernel)",
   "language": "python",
   "name": "python3"
  },
  "language_info": {
   "codemirror_mode": {
    "name": "ipython",
    "version": 3
   },
   "file_extension": ".py",
   "mimetype": "text/x-python",
   "name": "python",
   "nbconvert_exporter": "python",
   "pygments_lexer": "ipython3",
   "version": "3.8.10"
  },
  "toc": {
   "base_numbering": 1,
   "nav_menu": {},
   "number_sections": true,
   "sideBar": true,
   "skip_h1_title": false,
   "title_cell": "Table of Contents",
   "title_sidebar": "Contents",
   "toc_cell": false,
   "toc_position": {
    "height": "calc(100% - 180px)",
    "left": "10px",
    "top": "150px",
    "width": "256px"
   },
   "toc_section_display": true,
   "toc_window_display": false
  }
 },
 "nbformat": 4,
 "nbformat_minor": 4
}
