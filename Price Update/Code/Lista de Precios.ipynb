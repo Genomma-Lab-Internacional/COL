{
 "cells": [
  {
   "cell_type": "markdown",
   "metadata": {},
   "source": [
    "# Libraries"
   ]
  },
  {
   "cell_type": "code",
   "execution_count": 1,
   "metadata": {},
   "outputs": [],
   "source": [
    "from datetime import datetime\n",
    "import pandas as pd\n",
    "import os\n",
    "pd.io.formats.excel.ExcelFormatter.header_style = None"
   ]
  },
  {
   "cell_type": "code",
   "execution_count": 2,
   "metadata": {},
   "outputs": [],
   "source": [
    "# Ignore rows with no data\n",
    "def get_data(data, column):\n",
    "    df = data.copy()\n",
    "    not_null = df[df[column].notnull()].index.min()\n",
    "    df.columns = df.loc[not_null].tolist()\n",
    "    df = df[not_null + 1:].copy()\n",
    "    df.reset_index(drop=True, inplace=True)\n",
    "    return df"
   ]
  },
  {
   "cell_type": "code",
   "execution_count": 3,
   "metadata": {},
   "outputs": [],
   "source": [
    "def filter_clients(df):\n",
    "    data = pd.DataFrame()\n",
    "    clients = ['LOCATEL',  'OLIMPICA', 'COOPIDROGAS', 'UNIDROGAS', 'INTERNACIONAL', 'CRUZ VERDE', 'AXA',\n",
    "               'ETICOS', 'MULTIDROGAS', 'CENCOSUD', 'ALKOSTO', 'ROMA', 'JULIO DELGADO', 'BRECCIA', 'EVE',\n",
    "               'FARMATODO', 'EXITO', 'DPJD', 'PASTEUR', 'COPSERVIR', 'CAFAM', 'COLOMBIANA DE COMERCIO']\n",
    "    for client in clients:\n",
    "        aux = df[df['Cliente'].str.contains(client)]\n",
    "        data = pd.concat([data, aux])\n",
    "        data.reset_index(drop=True, inplace=True)\n",
    "    return data"
   ]
  },
  {
   "cell_type": "code",
   "execution_count": 4,
   "metadata": {},
   "outputs": [],
   "source": [
    "def clean_ean(df):\n",
    "    df = df.sort_values(['Fecha', 'Cliente'], ascending=False)\n",
    "    try:\n",
    "        df['EAN'] = df['EAN'].map(int)\n",
    "    except:\n",
    "        df['EAN'].fillna(0, inplace=True)\n",
    "        df['EAN'] = df['EAN'].map(int)\n",
    "    df.reset_index(drop=True, inplace=True)\n",
    "    return df"
   ]
  },
  {
   "cell_type": "code",
   "execution_count": 5,
   "metadata": {},
   "outputs": [],
   "source": [
    "def get_unique_sku(df):\n",
    "    final = pd.DataFrame()\n",
    "    for row in df[['Cliente', 'EAN']].drop_duplicates().itertuples():\n",
    "        aux = df.loc[(df['Cliente']==row.Cliente)&(df['EAN']==row.EAN)]\n",
    "        date = aux['Fecha'].max()\n",
    "        if aux[aux['Fecha'] == date].shape[0] > 1:\n",
    "            aux = aux[(aux['Fecha'] == date)&(~aux['Producto'].str.contains('NF'))]\n",
    "        final = pd.concat([final, aux[aux['Fecha'] == date]])\n",
    "        final.reset_index(drop=True, inplace=True)\n",
    "    return final"
   ]
  },
  {
   "cell_type": "code",
   "execution_count": 6,
   "metadata": {},
   "outputs": [],
   "source": [
    "def export_file(df, path, filename):\n",
    "    df.to_excel(path + filename, sheet_name='Precios', index=False)"
   ]
  },
  {
   "cell_type": "markdown",
   "metadata": {},
   "source": [
    "path ='../../../02PriceUpdate/COL/1Data/2Catalogue/1Current/'\n",
    "[f for f in os.listdir(path) if 'LISTA DE PRECIOS' in f]"
   ]
  },
  {
   "cell_type": "markdown",
   "metadata": {},
   "source": [
    "files = ['LISTA DE PRECIOS 010321 + DURACELL.xlsx',\n",
    "         'LISTA DE PRECIOS 020221 + DURACELL.xlsx',\n",
    "         'LISTA DE PRECIOS 09122020 + DURACELL.xlsx',\n",
    "         'LISTA DE PRECIOS 11062020 + DURACELL-1.xlsx',\n",
    "         'LISTA DE PRECIOS 120121 + DURACELL.xlsx',\n",
    "         'LISTA DE PRECIOS 14042020 + DURACELL.xlsx',\n",
    "         'LISTA DE PRECIOS 14072020 + DURACELL.xlsx',\n",
    "         'LISTA DE PRECIOS 160421 + DURACELL.xlsx',\n",
    "         'LISTA DE PRECIOS 18112020 + DURACELL.xlsx',\n",
    "         'LISTA DE PRECIOS 21042020 + DURACELL.xlsx',\n",
    "         'LISTA DE PRECIOS 21092020 + DURACELL.xlsx',\n",
    "         'LISTA DE PRECIOS 22062020 + DURACELL-1.xlsx',\n",
    "         'LISTA DE PRECIOS 22122020 + DURACELL.xlsx',\n",
    "         'LISTA DE PRECIOS 240521 + DURACELL.xlsx',\n",
    "         'LISTA DE PRECIOS 26032020 + DURACELL.xlsx',\n",
    "         'LISTA DE PRECIOS 27082020 + DURACELL.xlsx',\n",
    "         'LISTA DE PRECIOS 27102020 + DURACELL.xlsx',\n",
    "         'LISTA DE PRECIOS 28052020 + DURACELL.xlsx',\n",
    "         'LISTA DE PRECIOS 28072020 + DURACELL.xlsx',\n",
    "         'LISTA DE PRECIOS 30092020 + DURACELL.xlsx',\n",
    "         'LISTA DE PRECIOS 30112020 + DURACELL.xlsx']"
   ]
  },
  {
   "cell_type": "code",
   "execution_count": 11,
   "metadata": {},
   "outputs": [],
   "source": [
    "path_prices = r'C:\\Users\\jshernandezm\\OneDrive - genommalabinternacional\\Colombia\\Price Update\\Data'\n",
    "files = [f for f in os.listdir(path_prices) if 'LISTA DE PRECIOS' in f]"
   ]
  },
  {
   "cell_type": "markdown",
   "metadata": {},
   "source": [
    "# Import Data"
   ]
  },
  {
   "cell_type": "code",
   "execution_count": 13,
   "metadata": {},
   "outputs": [
    {
     "name": "stdout",
     "output_type": "stream",
     "text": [
      "Wall time: 5min 4s\n"
     ]
    }
   ],
   "source": [
    "%%time\n",
    "df = pd.DataFrame()\n",
    "for file in files:\n",
    "    try:\n",
    "        aux = pd.read_excel(path_prices + '\\\\' + file, sheet_name='Lista de Precios')\n",
    "    except:\n",
    "        aux = pd.read_excel(path_prices + '\\\\' + file, sheet_name='Hoja1')\n",
    "    \n",
    "    if 'Unnamed: 7' in aux.columns:\n",
    "        aux = get_data(aux, 'Unnamed: 7')\n",
    "    \n",
    "    date = file.split(' + ')[0].split(' ')[3]\n",
    "    if len(date) == 6:\n",
    "        date = date[:4] + '2021'\n",
    "        \n",
    "    aux.rename({'ean':'EAN', 'Ean':'EAN'}, axis=1, inplace=True)\n",
    "    aux['Fecha'] = datetime.strptime(date, '%d%m%Y')\n",
    "    df = pd.concat([df, aux[['Fecha', 'Cliente', 'EAN', 'Producto', 'LISTA']]])"
   ]
  },
  {
   "cell_type": "markdown",
   "metadata": {},
   "source": [
    "# Data Cleaning"
   ]
  },
  {
   "cell_type": "markdown",
   "metadata": {},
   "source": [
    "- Quitar duplicados por Descripción de productos\n",
    "    - NUEVA IMAGEN <- Productos a quedarse\n",
    "- Agregar Columna ID"
   ]
  },
  {
   "cell_type": "code",
   "execution_count": 14,
   "metadata": {},
   "outputs": [
    {
     "name": "stdout",
     "output_type": "stream",
     "text": [
      "Wall time: 1min 22s\n"
     ]
    }
   ],
   "source": [
    "%%time\n",
    "data = filter_clients(df)\n",
    "data = clean_ean(data)\n",
    "final = get_unique_sku(data)"
   ]
  },
  {
   "cell_type": "markdown",
   "metadata": {},
   "source": [
    "## Delete repetead products"
   ]
  },
  {
   "cell_type": "code",
   "execution_count": 15,
   "metadata": {},
   "outputs": [],
   "source": [
    "final.drop_duplicates(inplace=True)"
   ]
  },
  {
   "cell_type": "code",
   "execution_count": 16,
   "metadata": {},
   "outputs": [],
   "source": [
    "final['ID'] = final['Cliente'] + final['EAN'].map(int).map(str)\n",
    "repeated_skus  = final['ID'].value_counts()[final['ID'].value_counts() > 1].index"
   ]
  },
  {
   "cell_type": "code",
   "execution_count": 26,
   "metadata": {},
   "outputs": [],
   "source": [
    "aux = pd.DataFrame()\n",
    "for sku in repeated_skus:\n",
    "    sku_to_save = final[(final['ID']==sku)&(final['Producto'].str.contains('NUEVA IMAGEN'))]\n",
    "    aux = pd.concat([aux, sku_to_save])"
   ]
  },
  {
   "cell_type": "code",
   "execution_count": 33,
   "metadata": {},
   "outputs": [],
   "source": [
    "final = final[~final['ID'].isin(repeated_skus)]\n",
    "\n",
    "final = pd.concat([final, aux])"
   ]
  },
  {
   "cell_type": "markdown",
   "metadata": {},
   "source": [
    "## Add some products"
   ]
  },
  {
   "cell_type": "code",
   "execution_count": 48,
   "metadata": {},
   "outputs": [],
   "source": [
    "constant_skus = {'ID':\n",
    "                 ['UNIDROGAS S.A.650240004605',\n",
    "                  'UNIDROGAS S.A.650240009556',\n",
    "                  'UNIDROGAS S.A.650240010583',\n",
    "                  'UNIDROGAS S.A.650240009549',\n",
    "                  'UNIDROGAS S.A.15797'],\n",
    "                 'Fecha':['X', 'X', 'X', 'X', 'X'],\n",
    "                 'Cliente':['UNIDROGAS S.A.', \n",
    "                            'UNIDROGAS S.A.',\n",
    "                            'UNIDROGAS S.A.',\n",
    "                            'UNIDROGAS S.A.',\n",
    "                            'UNIDROGAS S.A.'],\n",
    "                 'EAN':[650240004605,\n",
    "                        650240009556,\n",
    "                        650240010583,\n",
    "                        650240009549,\n",
    "                        15797],\n",
    "                 'Producto':['X',\n",
    "                        'ASEPXIA MAQUILLAJE POLVO COMPACTO BEIGE MATE',\n",
    "                        'ASEPXIA MAQUILLAJE POLVO CLARO MATE',\n",
    "                        'ASEPXIA MAQUILLAJE POLVO COMPACTO NATURAL',\n",
    "                        'X'],\n",
    "                 'LISTA':[13830,\n",
    "                          18086,\n",
    "                          18086, \n",
    "                          18086,\n",
    "                          37897]}"
   ]
  },
  {
   "cell_type": "code",
   "execution_count": 50,
   "metadata": {},
   "outputs": [],
   "source": [
    "final = pd.concat([final, pd.DataFrame(constant_skus)])"
   ]
  },
  {
   "cell_type": "markdown",
   "metadata": {},
   "source": [
    "# Export"
   ]
  },
  {
   "cell_type": "code",
   "execution_count": 56,
   "metadata": {},
   "outputs": [],
   "source": [
    "cols = ['ID', 'Fecha', 'Cliente', 'EAN', 'Producto', 'LISTA']"
   ]
  },
  {
   "cell_type": "code",
   "execution_count": 58,
   "metadata": {},
   "outputs": [],
   "source": [
    "path_export = r'C:\\Users\\jshernandezm\\OneDrive - genommalabinternacional\\Colombia\\Price Update\\Data\\Output'\n",
    "filename = 'Catalogo_Precios-{}.xlsx'\n",
    "filename = filename.format(datetime.today().strftime('%Y%m%d-%H%M'))\n",
    "final[cols].to_excel(\n",
    "    path_export + '\\\\' + filename,\n",
    "    index=False, \n",
    "    sheet_name='Precios'\n",
    ")"
   ]
  },
  {
   "cell_type": "code",
   "execution_count": null,
   "metadata": {},
   "outputs": [],
   "source": []
  },
  {
   "cell_type": "markdown",
   "metadata": {},
   "source": [
    "total_files = [f for f in os.listdir(path) if 'LISTA DE PRECIOS' in f]"
   ]
  },
  {
   "cell_type": "markdown",
   "metadata": {},
   "source": [
    "def get_date(filename):\n",
    "    date = filename.split(' + ')[0].split(' ')[3]\n",
    "    if len(date) == 6:\n",
    "        date = date[:4] + '2021'\n",
    "    return datetime.strptime(date, '%d%m%Y')"
   ]
  },
  {
   "cell_type": "markdown",
   "metadata": {},
   "source": [
    "df_files = pd.DataFrame(total_files, columns=['Names'])\n",
    "\n",
    "df_files['Dates'] = df_files['Names'].map(get_date)\n",
    "df_files['Months'] = df_files['Dates'].apply(lambda x: int(str(x.year) + str(x.month).zfill(2)))"
   ]
  },
  {
   "cell_type": "markdown",
   "metadata": {},
   "source": [
    "df_files.sort_values(by='Dates', inplace=True)\n",
    "\n",
    "df_files.reset_index(drop=True, inplace=True)"
   ]
  },
  {
   "cell_type": "markdown",
   "metadata": {},
   "source": [
    "%%time\n",
    "path ='../../../02PriceUpdate/COL/1Data/2Catalogue/1Current/'\n",
    "previous_files = []\n",
    "df = pd.DataFrame()\n",
    "for month in df_files['Months'].unique():\n",
    "    files = df_files.loc[df_files['Months'] <= month, 'Names'].tolist()\n",
    "    miss_files = [e for e in files if e not in previous_files]\n",
    "    for file in miss_files:\n",
    "        try:\n",
    "            aux = pd.read_excel(path + file, sheet_name='Lista de Precios')\n",
    "        except:\n",
    "            aux = pd.read_excel(path + file, sheet_name='Hoja1')\n",
    "\n",
    "        if 'Unnamed: 7' in aux.columns:\n",
    "            aux = get_data(aux, 'Unnamed: 7')\n",
    "\n",
    "        date = file.split(' + ')[0].split(' ')[3]\n",
    "        if len(date) == 6:\n",
    "            date = date[:4] + '2021'\n",
    "\n",
    "        aux.rename({'ean':'EAN', 'Ean':'EAN'}, axis=1, inplace=True)\n",
    "        aux['Fecha'] = datetime.strptime(date, '%d%m%Y')\n",
    "        df = pd.concat([df, aux[['Fecha', 'Cliente', 'EAN', 'Producto', 'LISTA']]])\n",
    "        \n",
    "    data = filter_clients(df)\n",
    "    data = clean_ean(data)\n",
    "    final = get_unique_sku(data)\n",
    "\n",
    "    path_export = '../../../02PriceUpdate/COL/1Data/2Catalogue/1Current/Precios/'\n",
    "    filename = 'Catalogo_Precios-' + str(month) + '.xlsx'\n",
    "    export_file(final, path_export, filename)\n",
    "        \n",
    "    previous_files = files"
   ]
  },
  {
   "cell_type": "code",
   "execution_count": null,
   "metadata": {},
   "outputs": [],
   "source": []
  },
  {
   "cell_type": "code",
   "execution_count": null,
   "metadata": {},
   "outputs": [],
   "source": []
  },
  {
   "cell_type": "code",
   "execution_count": null,
   "metadata": {},
   "outputs": [],
   "source": []
  },
  {
   "cell_type": "code",
   "execution_count": null,
   "metadata": {},
   "outputs": [],
   "source": []
  }
 ],
 "metadata": {
  "kernelspec": {
   "display_name": "Python 3 (ipykernel)",
   "language": "python",
   "name": "python3"
  },
  "language_info": {
   "codemirror_mode": {
    "name": "ipython",
    "version": 3
   },
   "file_extension": ".py",
   "mimetype": "text/x-python",
   "name": "python",
   "nbconvert_exporter": "python",
   "pygments_lexer": "ipython3",
   "version": "3.8.10"
  },
  "toc": {
   "base_numbering": 1,
   "nav_menu": {},
   "number_sections": true,
   "sideBar": true,
   "skip_h1_title": false,
   "title_cell": "Table of Contents",
   "title_sidebar": "Contents",
   "toc_cell": false,
   "toc_position": {},
   "toc_section_display": true,
   "toc_window_display": true
  }
 },
 "nbformat": 4,
 "nbformat_minor": 4
}
